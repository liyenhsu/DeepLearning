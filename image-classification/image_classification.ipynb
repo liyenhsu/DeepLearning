{
 "cells": [
  {
   "cell_type": "markdown",
   "metadata": {
    "collapsed": true
   },
   "source": [
    "# Image Classification\n",
    "In this project, you'll classify images from the [CIFAR-10 dataset](https://www.cs.toronto.edu/~kriz/cifar.html).  The dataset consists of airplanes, dogs, cats, and other objects. You'll preprocess the images, then train a convolutional neural network on all the samples. The images need to be normalized and the labels need to be one-hot encoded.  You'll get to apply what you learned and build a convolutional, max pooling, dropout, and fully connected layers.  At the end, you'll get to see your neural network's predictions on the sample images.\n",
    "## Get the Data\n",
    "Run the following cell to download the [CIFAR-10 dataset for python](https://www.cs.toronto.edu/~kriz/cifar-10-python.tar.gz)."
   ]
  },
  {
   "cell_type": "code",
   "execution_count": 1,
   "metadata": {},
   "outputs": [
    {
     "name": "stdout",
     "output_type": "stream",
     "text": [
      "All files found!\n"
     ]
    }
   ],
   "source": [
    "\"\"\"\n",
    "DON'T MODIFY ANYTHING IN THIS CELL THAT IS BELOW THIS LINE\n",
    "\"\"\"\n",
    "#from urllib.request import urlretrieve\n",
    "from urllib import urlretrieve\n",
    "\n",
    "from os.path import isfile, isdir\n",
    "from tqdm import tqdm\n",
    "import problem_unittests as tests\n",
    "import tarfile\n",
    "\n",
    "cifar10_dataset_folder_path = 'cifar-10-batches-py'\n",
    "\n",
    "# Use Floyd's cifar-10 dataset if present\n",
    "floyd_cifar10_location = '/cifar/cifar-10-python.tar.gz'\n",
    "if isfile(floyd_cifar10_location):\n",
    "    tar_gz_path = floyd_cifar10_location\n",
    "else:\n",
    "    tar_gz_path = 'cifar-10-python.tar.gz'\n",
    "\n",
    "class DLProgress(tqdm):\n",
    "    last_block = 0\n",
    "\n",
    "    def hook(self, block_num=1, block_size=1, total_size=None):\n",
    "        self.total = total_size\n",
    "        self.update((block_num - self.last_block) * block_size)\n",
    "        self.last_block = block_num\n",
    "\n",
    "if not isfile(tar_gz_path):\n",
    "    with DLProgress(unit='B', unit_scale=True, miniters=1, desc='CIFAR-10 Dataset') as pbar:\n",
    "        urlretrieve(\n",
    "            'https://www.cs.toronto.edu/~kriz/cifar-10-python.tar.gz',\n",
    "            tar_gz_path,\n",
    "            pbar.hook)\n",
    "\n",
    "if not isdir(cifar10_dataset_folder_path):\n",
    "    with tarfile.open(tar_gz_path) as tar:\n",
    "        tar.extractall()\n",
    "        tar.close()\n",
    "\n",
    "\n",
    "tests.test_folder_path(cifar10_dataset_folder_path)"
   ]
  },
  {
   "cell_type": "markdown",
   "metadata": {},
   "source": [
    "## Explore the Data\n",
    "The dataset is broken into batches to prevent your machine from running out of memory.  The CIFAR-10 dataset consists of 5 batches, named `data_batch_1`, `data_batch_2`, etc.. Each batch contains the labels and images that are one of the following:\n",
    "* airplane\n",
    "* automobile\n",
    "* bird\n",
    "* cat\n",
    "* deer\n",
    "* dog\n",
    "* frog\n",
    "* horse\n",
    "* ship\n",
    "* truck\n",
    "\n",
    "Understanding a dataset is part of making predictions on the data.  Play around with the code cell below by changing the `batch_id` and `sample_id`. The `batch_id` is the id for a batch (1-5). The `sample_id` is the id for a image and label pair in the batch.\n",
    "\n",
    "Ask yourself \"What are all possible labels?\", \"What is the range of values for the image data?\", \"Are the labels in order or random?\".  Answers to questions like these will help you preprocess the data and end up with better predictions."
   ]
  },
  {
   "cell_type": "code",
   "execution_count": 2,
   "metadata": {},
   "outputs": [
    {
     "name": "stdout",
     "output_type": "stream",
     "text": [
      "\n",
      "Stats of batch 2:\n",
      "Samples: 10000\n",
      "Label Counts: {0: 984, 1: 1007, 2: 1010, 3: 995, 4: 1010, 5: 988, 6: 1008, 7: 1026, 8: 987, 9: 985}\n",
      "First 20 Labels: [1, 6, 6, 8, 8, 3, 4, 6, 0, 6, 0, 3, 6, 6, 5, 4, 8, 3, 2, 6]\n",
      "\n",
      "Example of Image 20:\n",
      "Image - Min Value: 24 Max Value: 206\n",
      "Image - Shape: (32, 32, 3)\n",
      "Label - Label Id: 0 Name: airplane\n"
     ]
    },
    {
     "data": {
      "image/png": "[encoded data removed]",
      "text/plain": [
       "<matplotlib.figure.Figure at 0x11d346d50>"
      ]
     },
     "metadata": {
      "image/png": {
       "height": 250,
       "width": 253
      }
     },
     "output_type": "display_data"
    }
   ],
   "source": [
    "%matplotlib inline\n",
    "%config InlineBackend.figure_format = 'retina'\n",
    "\n",
    "import helper\n",
    "import numpy as np\n",
    "\n",
    "# Explore the dataset\n",
    "batch_id = 2\n",
    "sample_id = 20\n",
    "helper.display_stats(cifar10_dataset_folder_path, batch_id, sample_id)"
   ]
  },
  {
   "cell_type": "markdown",
   "metadata": {},
   "source": [
    "## Implement Preprocess Functions\n",
    "### Normalize\n",
    "In the cell below, implement the `normalize` function to take in image data, `x`, and return it as a normalized Numpy array. The values should be in the range of 0 to 1, inclusive.  The return object should be the same shape as `x`."
   ]
  },
  {
   "cell_type": "code",
   "execution_count": 3,
   "metadata": {},
   "outputs": [
    {
     "name": "stdout",
     "output_type": "stream",
     "text": [
      "Tests Passed\n"
     ]
    }
   ],
   "source": [
    "def normalize(x):\n",
    "    \"\"\"\n",
    "    Normalize a list of sample image data in the range of 0 to 1\n",
    "    : x: List of image data.  The image shape is (32, 32, 3)\n",
    "    : return: Numpy array of normalize data\n",
    "    \"\"\"\n",
    "    # TODO: Implement Function\n",
    "    return np.array(x)/255.\n",
    "\n",
    "\n",
    "\"\"\"\n",
    "DON'T MODIFY ANYTHING IN THIS CELL THAT IS BELOW THIS LINE\n",
    "\"\"\"\n",
    "tests.test_normalize(normalize)"
   ]
  },
  {
   "cell_type": "markdown",
   "metadata": {},
   "source": [
    "### One-hot encode\n",
    "Just like the previous code cell, you'll be implementing a function for preprocessing.  This time, you'll implement the `one_hot_encode` function. The input, `x`, are a list of labels.  Implement the function to return the list of labels as One-Hot encoded Numpy array.  The possible values for labels are 0 to 9. The one-hot encoding function should return the same encoding for each value between each call to `one_hot_encode`.  Make sure to save the map of encodings outside the function.\n",
    "\n",
    "Hint: Don't reinvent the wheel."
   ]
  },
  {
   "cell_type": "code",
   "execution_count": 4,
   "metadata": {},
   "outputs": [
    {
     "name": "stdout",
     "output_type": "stream",
     "text": [
      "Tests Passed\n"
     ]
    }
   ],
   "source": [
    "import tensorflow as tf\n",
    "\n",
    "def one_hot_encode(x):\n",
    "    \"\"\"\n",
    "    One hot encode a list of sample labels. Return a one-hot encoded vector for each label.\n",
    "    : x: List of sample Labels\n",
    "    : return: Numpy array of one-hot encoded labels\n",
    "    \"\"\"\n",
    "    # TODO: Implement Function\n",
    "    one_hot_matrix = tf.one_hot(x, 10, axis=1)\n",
    "    sess = tf.Session()\n",
    "    one_hot = sess.run(one_hot_matrix)\n",
    "    sess.close()\n",
    "    \n",
    "    return one_hot\n",
    "\n",
    "\n",
    "\"\"\"\n",
    "DON'T MODIFY ANYTHING IN THIS CELL THAT IS BELOW THIS LINE\n",
    "\"\"\"\n",
    "tests.test_one_hot_encode(one_hot_encode)"
   ]
  },
  {
   "cell_type": "markdown",
   "metadata": {},
   "source": [
    "### Randomize Data\n",
    "As you saw from exploring the data above, the order of the samples are randomized.  It doesn't hurt to randomize it again, but you don't need to for this dataset."
   ]
  },
  {
   "cell_type": "markdown",
   "metadata": {},
   "source": [
    "## Preprocess all the data and save it\n",
    "Running the code cell below will preprocess all the CIFAR-10 data and save it to file. The code below also uses 10% of the training data for validation."
   ]
  },
  {
   "cell_type": "code",
   "execution_count": 5,
   "metadata": {
    "collapsed": true
   },
   "outputs": [],
   "source": [
    "\"\"\"\n",
    "DON'T MODIFY ANYTHING IN THIS CELL\n",
    "\"\"\"\n",
    "# Preprocess Training, Validation, and Testing Data\n",
    "helper.preprocess_and_save_data(cifar10_dataset_folder_path, normalize, one_hot_encode)"
   ]
  },
  {
   "cell_type": "markdown",
   "metadata": {},
   "source": [
    "# Check Point\n",
    "This is your first checkpoint.  If you ever decide to come back to this notebook or have to restart the notebook, you can start from here.  The preprocessed data has been saved to disk."
   ]
  },
  {
   "cell_type": "code",
   "execution_count": 6,
   "metadata": {
    "collapsed": true
   },
   "outputs": [],
   "source": [
    "\"\"\"\n",
    "DON'T MODIFY ANYTHING IN THIS CELL\n",
    "\"\"\"\n",
    "import pickle\n",
    "import problem_unittests as tests\n",
    "import helper\n",
    "\n",
    "# Load the Preprocessed Validation data\n",
    "valid_features, valid_labels = pickle.load(open('preprocess_validation.p', mode='rb'))"
   ]
  },
  {
   "cell_type": "markdown",
   "metadata": {},
   "source": [
    "## Build the network\n",
    "For the neural network, you'll build each layer into a function.  Most of the code you've seen has been outside of functions. To test your code more thoroughly, we require that you put each layer in a function.  This allows us to give you better feedback and test for simple mistakes using our unittests before you submit your project.\n",
    "\n",
    ">**Note:** If you're finding it hard to dedicate enough time for this course each week, we've provided a small shortcut to this part of the project. In the next couple of problems, you'll have the option to use classes from the [TensorFlow Layers](https://www.tensorflow.org/api_docs/python/tf/layers) or [TensorFlow Layers (contrib)](https://www.tensorflow.org/api_guides/python/contrib.layers) packages to build each layer, except the layers you build in the \"Convolutional and Max Pooling Layer\" section.  TF Layers is similar to Keras's and TFLearn's abstraction to layers, so it's easy to pickup.\n",
    "\n",
    ">However, if you would like to get the most out of this course, try to solve all the problems _without_ using anything from the TF Layers packages. You **can** still use classes from other packages that happen to have the same name as ones you find in TF Layers! For example, instead of using the TF Layers version of the `conv2d` class, [tf.layers.conv2d](https://www.tensorflow.org/api_docs/python/tf/layers/conv2d), you would want to use the TF Neural Network version of `conv2d`, [tf.nn.conv2d](https://www.tensorflow.org/api_docs/python/tf/nn/conv2d). \n",
    "\n",
    "Let's begin!\n",
    "\n",
    "### Input\n",
    "The neural network needs to read the image data, one-hot encoded labels, and dropout keep probability. Implement the following functions\n",
    "* Implement `neural_net_image_input`\n",
    " * Return a [TF Placeholder](https://www.tensorflow.org/api_docs/python/tf/placeholder)\n",
    " * Set the shape using `image_shape` with batch size set to `None`.\n",
    " * Name the TensorFlow placeholder \"x\" using the TensorFlow `name` parameter in the [TF Placeholder](https://www.tensorflow.org/api_docs/python/tf/placeholder).\n",
    "* Implement `neural_net_label_input`\n",
    " * Return a [TF Placeholder](https://www.tensorflow.org/api_docs/python/tf/placeholder)\n",
    " * Set the shape using `n_classes` with batch size set to `None`.\n",
    " * Name the TensorFlow placeholder \"y\" using the TensorFlow `name` parameter in the [TF Placeholder](https://www.tensorflow.org/api_docs/python/tf/placeholder).\n",
    "* Implement `neural_net_keep_prob_input`\n",
    " * Return a [TF Placeholder](https://www.tensorflow.org/api_docs/python/tf/placeholder) for dropout keep probability.\n",
    " * Name the TensorFlow placeholder \"keep_prob\" using the TensorFlow `name` parameter in the [TF Placeholder](https://www.tensorflow.org/api_docs/python/tf/placeholder).\n",
    "\n",
    "These names will be used at the end of the project to load your saved model.\n",
    "\n",
    "Note: `None` for shapes in TensorFlow allow for a dynamic size."
   ]
  },
  {
   "cell_type": "code",
   "execution_count": 30,
   "metadata": {},
   "outputs": [
    {
     "name": "stdout",
     "output_type": "stream",
     "text": [
      "Image Input Tests Passed.\n",
      "Label Input Tests Passed.\n",
      "Keep Prob Tests Passed.\n"
     ]
    }
   ],
   "source": [
    "import tensorflow as tf\n",
    "\n",
    "def neural_net_image_input(image_shape):\n",
    "    \"\"\"\n",
    "    Return a Tensor for a batch of image input\n",
    "    : image_shape: Shape of the images\n",
    "    : return: Tensor for image input.\n",
    "    \"\"\"\n",
    "    # TODO: Implement Function\n",
    "    return tf.placeholder(tf.float32, shape=[None]+list(image_shape), name='x')\n",
    "\n",
    "\n",
    "def neural_net_label_input(n_classes):\n",
    "    \"\"\"\n",
    "    Return a Tensor for a batch of label input\n",
    "    : n_classes: Number of classes\n",
    "    : return: Tensor for label input.\n",
    "    \"\"\"\n",
    "    # TODO: Implement Function\n",
    "    return tf.placeholder(tf.float32, shape=[None, n_classes], name='y')\n",
    "\n",
    "\n",
    "def neural_net_keep_prob_input():\n",
    "    \"\"\"\n",
    "    Return a Tensor for keep probability\n",
    "    : return: Tensor for keep probability.\n",
    "    \"\"\"\n",
    "    # TODO: Implement Function\n",
    "    return tf.placeholder(tf.float32, name='keep_prob')\n",
    "\n",
    "\n",
    "\"\"\"\n",
    "DON'T MODIFY ANYTHING IN THIS CELL THAT IS BELOW THIS LINE\n",
    "\"\"\"\n",
    "tf.reset_default_graph()\n",
    "tests.test_nn_image_inputs(neural_net_image_input)\n",
    "tests.test_nn_label_inputs(neural_net_label_input)\n",
    "tests.test_nn_keep_prob_inputs(neural_net_keep_prob_input)"
   ]
  },
  {
   "cell_type": "markdown",
   "metadata": {},
   "source": [
    "### Convolution and Max Pooling Layer\n",
    "Convolution layers have a lot of success with images. For this code cell, you should implement the function `conv2d_maxpool` to apply convolution then max pooling:\n",
    "* Create the weight and bias using `conv_ksize`, `conv_num_outputs` and the shape of `x_tensor`.\n",
    "* Apply a convolution to `x_tensor` using weight and `conv_strides`.\n",
    " * We recommend you use same padding, but you're welcome to use any padding.\n",
    "* Add bias\n",
    "* Add a nonlinear activation to the convolution.\n",
    "* Apply Max Pooling using `pool_ksize` and `pool_strides`.\n",
    " * We recommend you use same padding, but you're welcome to use any padding.\n",
    "\n",
    "**Note:** You **can't** use [TensorFlow Layers](https://www.tensorflow.org/api_docs/python/tf/layers) or [TensorFlow Layers (contrib)](https://www.tensorflow.org/api_guides/python/contrib.layers) for **this** layer, but you can still use TensorFlow's [Neural Network](https://www.tensorflow.org/api_docs/python/tf/nn) package. You may still use the shortcut option for all the **other** layers."
   ]
  },
  {
   "cell_type": "code",
   "execution_count": 31,
   "metadata": {},
   "outputs": [
    {
     "name": "stdout",
     "output_type": "stream",
     "text": [
      "Tests Passed\n"
     ]
    }
   ],
   "source": [
    "def conv2d_maxpool(x_tensor, conv_num_outputs, conv_ksize, conv_strides, pool_ksize, pool_strides):\n",
    "    \"\"\"\n",
    "    Apply convolution then max pooling to x_tensor\n",
    "    :param x_tensor: TensorFlow Tensor\n",
    "    :param conv_num_outputs: Number of outputs for the convolutional layer\n",
    "    :param conv_ksize: kernal size 2-D Tuple for the convolutional layer\n",
    "    :param conv_strides: Stride 2-D Tuple for convolution\n",
    "    :param pool_ksize: kernal size 2-D Tuple for pool\n",
    "    :param pool_strides: Stride 2-D Tuple for pool\n",
    "    : return: A tensor that represents convolution and max pooling of x_tensor\n",
    "    \"\"\"\n",
    "    # TODO: Implement Function\n",
    "    n_H = conv_ksize[0]\n",
    "    n_W = conv_ksize[1]\n",
    "    strides_H = conv_strides[0]\n",
    "    strides_W = conv_strides[1]\n",
    "    pool_H = pool_ksize[0]\n",
    "    pool_W = pool_ksize[1]\n",
    "    poolstrides_H = pool_strides[0]\n",
    "    poolstrides_W = pool_strides[1]        \n",
    "    depth_in = x_tensor.get_shape().as_list()[3]\n",
    "    depth_out = conv_num_outputs\n",
    "        \n",
    "    W =  tf.Variable(tf.truncated_normal([n_H,n_W,depth_in,depth_out], stddev = 1.0/depth_out))\n",
    "    b =  tf.Variable(tf.zeros(depth_out))\n",
    "    Z = tf.nn.conv2d(x_tensor, W, strides = [1,strides_H,strides_W,1], padding = 'SAME')\n",
    "    Z = tf.add(Z, b)\n",
    "    A = tf.nn.relu(Z)\n",
    "    P = tf.nn.max_pool(A, ksize = [1,pool_H,pool_W,1], strides = [1,poolstrides_H,poolstrides_W,1], padding = 'SAME')\n",
    "    \n",
    "    return P \n",
    "\n",
    "\n",
    "\"\"\"\n",
    "DON'T MODIFY ANYTHING IN THIS CELL THAT IS BELOW THIS LINE\n",
    "\"\"\"\n",
    "tests.test_con_pool(conv2d_maxpool)"
   ]
  },
  {
   "cell_type": "markdown",
   "metadata": {},
   "source": [
    "### Flatten Layer\n",
    "Implement the `flatten` function to change the dimension of `x_tensor` from a 4-D tensor to a 2-D tensor.  The output should be the shape (*Batch Size*, *Flattened Image Size*). Shortcut option: you can use classes from the [TensorFlow Layers](https://www.tensorflow.org/api_docs/python/tf/layers) or [TensorFlow Layers (contrib)](https://www.tensorflow.org/api_guides/python/contrib.layers) packages for this layer. For more of a challenge, only use other TensorFlow packages."
   ]
  },
  {
   "cell_type": "code",
   "execution_count": 32,
   "metadata": {},
   "outputs": [
    {
     "name": "stdout",
     "output_type": "stream",
     "text": [
      "Tests Passed\n"
     ]
    }
   ],
   "source": [
    "def flatten(x_tensor):\n",
    "    \"\"\"\n",
    "    Flatten x_tensor to (Batch Size, Flattened Image Size)\n",
    "    : x_tensor: A tensor of size (Batch Size, ...), where ... are the image dimensions.\n",
    "    : return: A tensor of size (Batch Size, Flattened Image Size).\n",
    "    \"\"\"\n",
    "    # TODO: Implement Function\n",
    "    return tf.contrib.layers.flatten(x_tensor)\n",
    "\n",
    "\n",
    "\"\"\"\n",
    "DON'T MODIFY ANYTHING IN THIS CELL THAT IS BELOW THIS LINE\n",
    "\"\"\"\n",
    "tests.test_flatten(flatten)"
   ]
  },
  {
   "cell_type": "markdown",
   "metadata": {},
   "source": [
    "### Fully-Connected Layer\n",
    "Implement the `fully_conn` function to apply a fully connected layer to `x_tensor` with the shape (*Batch Size*, *num_outputs*). Shortcut option: you can use classes from the [TensorFlow Layers](https://www.tensorflow.org/api_docs/python/tf/layers) or [TensorFlow Layers (contrib)](https://www.tensorflow.org/api_guides/python/contrib.layers) packages for this layer. For more of a challenge, only use other TensorFlow packages."
   ]
  },
  {
   "cell_type": "code",
   "execution_count": 33,
   "metadata": {},
   "outputs": [
    {
     "name": "stdout",
     "output_type": "stream",
     "text": [
      "Tests Passed\n"
     ]
    }
   ],
   "source": [
    "def fully_conn(x_tensor, num_outputs):\n",
    "    \"\"\"\n",
    "    Apply a fully connected layer to x_tensor using weight and bias\n",
    "    : x_tensor: A 2-D tensor where the first dimension is batch size.\n",
    "    : num_outputs: The number of output that the new tensor should be.\n",
    "    : return: A 2-D tensor where the second dimension is num_outputs.\n",
    "    \"\"\"\n",
    "    # TODO: Implement Function\n",
    "    return tf.contrib.layers.fully_connected(x_tensor, num_outputs)\n",
    "\n",
    "\n",
    "\"\"\"\n",
    "DON'T MODIFY ANYTHING IN THIS CELL THAT IS BELOW THIS LINE\n",
    "\"\"\"\n",
    "tests.test_fully_conn(fully_conn)"
   ]
  },
  {
   "cell_type": "markdown",
   "metadata": {},
   "source": [
    "### Output Layer\n",
    "Implement the `output` function to apply a fully connected layer to `x_tensor` with the shape (*Batch Size*, *num_outputs*). Shortcut option: you can use classes from the [TensorFlow Layers](https://www.tensorflow.org/api_docs/python/tf/layers) or [TensorFlow Layers (contrib)](https://www.tensorflow.org/api_guides/python/contrib.layers) packages for this layer. For more of a challenge, only use other TensorFlow packages.\n",
    "\n",
    "**Note:** Activation, softmax, or cross entropy should **not** be applied to this."
   ]
  },
  {
   "cell_type": "code",
   "execution_count": 34,
   "metadata": {},
   "outputs": [
    {
     "name": "stdout",
     "output_type": "stream",
     "text": [
      "Tests Passed\n"
     ]
    }
   ],
   "source": [
    "def output(x_tensor, num_outputs):\n",
    "    \"\"\"\n",
    "    Apply a output layer to x_tensor using weight and bias\n",
    "    : x_tensor: A 2-D tensor where the first dimension is batch size.\n",
    "    : num_outputs: The number of output that the new tensor should be.\n",
    "    : return: A 2-D tensor where the second dimension is num_outputs.\n",
    "    \"\"\"\n",
    "    # TODO: Implement Function\n",
    "    return tf.contrib.layers.fully_connected(x_tensor, num_outputs, activation_fn=None)\n",
    "\n",
    "\n",
    "\"\"\"\n",
    "DON'T MODIFY ANYTHING IN THIS CELL THAT IS BELOW THIS LINE\n",
    "\"\"\"\n",
    "tests.test_output(output)"
   ]
  },
  {
   "cell_type": "markdown",
   "metadata": {},
   "source": [
    "### Create Convolutional Model\n",
    "Implement the function `conv_net` to create a convolutional neural network model. The function takes in a batch of images, `x`, and outputs logits.  Use the layers you created above to create this model:\n",
    "\n",
    "* Apply 1, 2, or 3 Convolution and Max Pool layers\n",
    "* Apply a Flatten Layer\n",
    "* Apply 1, 2, or 3 Fully Connected Layers\n",
    "* Apply an Output Layer\n",
    "* Return the output\n",
    "* Apply [TensorFlow's Dropout](https://www.tensorflow.org/api_docs/python/tf/nn/dropout) to one or more layers in the model using `keep_prob`. "
   ]
  },
  {
   "cell_type": "code",
   "execution_count": 35,
   "metadata": {},
   "outputs": [
    {
     "name": "stdout",
     "output_type": "stream",
     "text": [
      "Neural Network Built!\n"
     ]
    }
   ],
   "source": [
    "def conv_net(x, keep_prob):\n",
    "    \"\"\"\n",
    "    Create a convolutional neural network model\n",
    "    : x: Placeholder tensor that holds image data.\n",
    "    : keep_prob: Placeholder tensor that hold dropout keep probability.\n",
    "    : return: Tensor that represents logits\n",
    "    \"\"\"\n",
    "    # TODO: Apply 1, 2, or 3 Convolution and Max Pool layers\n",
    "    #    Play around with different number of outputs, kernel size and stride\n",
    "    # Function Definition from Above:\n",
    "    #    conv2d_maxpool(x_tensor, conv_num_outputs, conv_ksize, conv_strides, pool_ksize, pool_strides)\n",
    "    \n",
    "    L1 = conv2d_maxpool(x, 16, [4, 4], [1, 1], [2, 2], [2, 2])\n",
    "    D1 = tf.nn.dropout(L1, keep_prob) \n",
    "    L2 = conv2d_maxpool(D1, 32, [4, 4], [1, 1], [2, 2], [2, 2])\n",
    "    D2 = tf.nn.dropout(L2, keep_prob) \n",
    "    L3 = conv2d_maxpool(D2, 64, [4, 4], [1, 1], [2, 2], [2, 2])\n",
    "    D3 = tf.nn.dropout(L3, keep_prob) \n",
    "      \n",
    "    # TODO: Apply a Flatten Layer\n",
    "    # Function Definition from Above:\n",
    "    #   flatten(x_tensor)\n",
    "    \n",
    "    F = flatten(D3)\n",
    "\n",
    "    # TODO: Apply 1, 2, or 3 Fully Connected Layers\n",
    "    #    Play around with different number of outputs\n",
    "    # Function Definition from Above:\n",
    "    #   fully_conn(x_tensor, num_outputs)\n",
    "    \n",
    "    FC1 = fully_conn(F, 40)\n",
    "    D4 = tf.nn.dropout(FC1, keep_prob) \n",
    "    FC2 = fully_conn(D4, 20)\n",
    "    D5 = tf.nn.dropout(FC2, keep_prob) \n",
    "    \n",
    "    # TODO: Apply an Output Layer\n",
    "    #    Set this to the number of classes\n",
    "    # Function Definition from Above:\n",
    "    #   output(x_tensor, num_outputs)\n",
    "    O = output(D5, 10)\n",
    "    \n",
    "    # TODO: return output\n",
    "    return O\n",
    "\n",
    "\n",
    "\"\"\"\n",
    "DON'T MODIFY ANYTHING IN THIS CELL THAT IS BELOW THIS LINE\n",
    "\"\"\"\n",
    "\n",
    "##############################\n",
    "## Build the Neural Network ##\n",
    "##############################\n",
    "\n",
    "# Remove previous weights, bias, inputs, etc..\n",
    "tf.reset_default_graph()\n",
    "\n",
    "# Inputs\n",
    "x = neural_net_image_input((32, 32, 3))\n",
    "y = neural_net_label_input(10)\n",
    "keep_prob = neural_net_keep_prob_input()\n",
    "\n",
    "# Model\n",
    "logits = conv_net(x, keep_prob)\n",
    "\n",
    "# Name logits Tensor, so that is can be loaded from disk after training\n",
    "logits = tf.identity(logits, name='logits')\n",
    "\n",
    "# Loss and Optimizer\n",
    "cost = tf.reduce_mean(tf.nn.softmax_cross_entropy_with_logits(logits=logits, labels=y))\n",
    "optimizer = tf.train.AdamOptimizer().minimize(cost)\n",
    "\n",
    "# Accuracy\n",
    "correct_pred = tf.equal(tf.argmax(logits, 1), tf.argmax(y, 1))\n",
    "accuracy = tf.reduce_mean(tf.cast(correct_pred, tf.float32), name='accuracy')\n",
    "\n",
    "tests.test_conv_net(conv_net)"
   ]
  },
  {
   "cell_type": "markdown",
   "metadata": {},
   "source": [
    "## Train the Neural Network\n",
    "### Single Optimization\n",
    "Implement the function `train_neural_network` to do a single optimization.  The optimization should use `optimizer` to optimize in `session` with a `feed_dict` of the following:\n",
    "* `x` for image input\n",
    "* `y` for labels\n",
    "* `keep_prob` for keep probability for dropout\n",
    "\n",
    "This function will be called for each batch, so `tf.global_variables_initializer()` has already been called.\n",
    "\n",
    "Note: Nothing needs to be returned. This function is only optimizing the neural network."
   ]
  },
  {
   "cell_type": "code",
   "execution_count": 36,
   "metadata": {},
   "outputs": [
    {
     "name": "stdout",
     "output_type": "stream",
     "text": [
      "Tests Passed\n"
     ]
    }
   ],
   "source": [
    "def train_neural_network(session, optimizer, keep_probability, feature_batch, label_batch):\n",
    "    \"\"\"\n",
    "    Optimize the session on a batch of images and labels\n",
    "    : session: Current TensorFlow session\n",
    "    : optimizer: TensorFlow optimizer function\n",
    "    : keep_probability: keep probability\n",
    "    : feature_batch: Batch of Numpy image data\n",
    "    : label_batch: Batch of Numpy label data\n",
    "    \"\"\"\n",
    "    # TODO: Implement Function\n",
    "    session.run(optimizer, feed_dict={x: feature_batch, y: label_batch, keep_prob: keep_probability})\n",
    "\n",
    "\n",
    "\"\"\"\n",
    "DON'T MODIFY ANYTHING IN THIS CELL THAT IS BELOW THIS LINE\n",
    "\"\"\"\n",
    "tests.test_train_nn(train_neural_network)"
   ]
  },
  {
   "cell_type": "markdown",
   "metadata": {},
   "source": [
    "### Show Stats\n",
    "Implement the function `print_stats` to print loss and validation accuracy.  Use the global variables `valid_features` and `valid_labels` to calculate validation accuracy.  Use a keep probability of `1.0` to calculate the loss and validation accuracy."
   ]
  },
  {
   "cell_type": "code",
   "execution_count": 37,
   "metadata": {
    "collapsed": true
   },
   "outputs": [],
   "source": [
    "def print_stats(session, feature_batch, label_batch, cost, accuracy):\n",
    "    \"\"\"\n",
    "    Print information about loss and validation accuracy\n",
    "    : session: Current TensorFlow session\n",
    "    : feature_batch: Batch of Numpy image data\n",
    "    : label_batch: Batch of Numpy label data\n",
    "    : cost: TensorFlow cost function\n",
    "    : accuracy: TensorFlow accuracy function\n",
    "    \"\"\"\n",
    "    # TODO: Implement Function\n",
    "    loss = session.run(cost, feed_dict={x: feature_batch, y: label_batch, keep_prob: 1.})\n",
    "    valid_acc = session.run(accuracy, feed_dict={x: valid_features, y: valid_labels, keep_prob: 1.})\n",
    "    print('Loss: {:>10.4f} Validation Accuracy: {:.6f}'.format(loss, valid_acc))"
   ]
  },
  {
   "cell_type": "markdown",
   "metadata": {},
   "source": [
    "### Hyperparameters\n",
    "Tune the following parameters:\n",
    "* Set `epochs` to the number of iterations until the network stops learning or start overfitting\n",
    "* Set `batch_size` to the highest number that your machine has memory for.  Most people set them to common sizes of memory:\n",
    " * 64\n",
    " * 128\n",
    " * 256\n",
    " * ...\n",
    "* Set `keep_probability` to the probability of keeping a node using dropout"
   ]
  },
  {
   "cell_type": "code",
   "execution_count": 40,
   "metadata": {
    "collapsed": true
   },
   "outputs": [],
   "source": [
    "# TODO: Tune Parameters\n",
    "epochs = 30\n",
    "batch_size = 128\n",
    "keep_probability = 0.8"
   ]
  },
  {
   "cell_type": "markdown",
   "metadata": {},
   "source": [
    "### Train on a Single CIFAR-10 Batch\n",
    "Instead of training the neural network on all the CIFAR-10 batches of data, let's use a single batch. This should save time while you iterate on the model to get a better accuracy.  Once the final validation accuracy is 50% or greater, run the model on all the data in the next section."
   ]
  },
  {
   "cell_type": "code",
   "execution_count": 41,
   "metadata": {},
   "outputs": [
    {
     "name": "stdout",
     "output_type": "stream",
     "text": [
      "Checking the Training on a Single Batch...\n",
      "Epoch  1, CIFAR-10 Batch 1:  Loss:     2.2283 Validation Accuracy: 0.157600\n",
      "Epoch  2, CIFAR-10 Batch 1:  Loss:     1.9978 Validation Accuracy: 0.293200\n",
      "Epoch  3, CIFAR-10 Batch 1:  Loss:     1.9557 Validation Accuracy: 0.326400\n",
      "Epoch  4, CIFAR-10 Batch 1:  Loss:     1.8676 Validation Accuracy: 0.356800\n",
      "Epoch  5, CIFAR-10 Batch 1:  Loss:     1.7453 Validation Accuracy: 0.383200\n",
      "Epoch  6, CIFAR-10 Batch 1:  Loss:     1.6609 Validation Accuracy: 0.398000\n",
      "Epoch  7, CIFAR-10 Batch 1:  Loss:     1.6111 Validation Accuracy: 0.424200\n",
      "Epoch  8, CIFAR-10 Batch 1:  Loss:     1.5786 Validation Accuracy: 0.410800\n",
      "Epoch  9, CIFAR-10 Batch 1:  Loss:     1.4881 Validation Accuracy: 0.459600\n",
      "Epoch 10, CIFAR-10 Batch 1:  Loss:     1.4329 Validation Accuracy: 0.455000\n",
      "Epoch 11, CIFAR-10 Batch 1:  Loss:     1.3785 Validation Accuracy: 0.473800\n",
      "Epoch 12, CIFAR-10 Batch 1:  Loss:     1.3413 Validation Accuracy: 0.493400\n",
      "Epoch 13, CIFAR-10 Batch 1:  Loss:     1.3105 Validation Accuracy: 0.490600\n",
      "Epoch 14, CIFAR-10 Batch 1:  Loss:     1.3063 Validation Accuracy: 0.500000\n",
      "Epoch 15, CIFAR-10 Batch 1:  Loss:     1.2240 Validation Accuracy: 0.513600\n",
      "Epoch 16, CIFAR-10 Batch 1:  Loss:     1.1920 Validation Accuracy: 0.512600\n",
      "Epoch 17, CIFAR-10 Batch 1:  Loss:     1.2119 Validation Accuracy: 0.534200\n",
      "Epoch 18, CIFAR-10 Batch 1:  Loss:     1.1338 Validation Accuracy: 0.524200\n",
      "Epoch 19, CIFAR-10 Batch 1:  Loss:     1.1382 Validation Accuracy: 0.523800\n",
      "Epoch 20, CIFAR-10 Batch 1:  Loss:     1.1045 Validation Accuracy: 0.543600\n",
      "Epoch 21, CIFAR-10 Batch 1:  Loss:     1.0521 Validation Accuracy: 0.541000\n",
      "Epoch 22, CIFAR-10 Batch 1:  Loss:     1.0422 Validation Accuracy: 0.539600\n",
      "Epoch 23, CIFAR-10 Batch 1:  Loss:     1.0334 Validation Accuracy: 0.539400\n",
      "Epoch 24, CIFAR-10 Batch 1:  Loss:     1.0107 Validation Accuracy: 0.547200\n",
      "Epoch 25, CIFAR-10 Batch 1:  Loss:     1.0370 Validation Accuracy: 0.546000\n",
      "Epoch 26, CIFAR-10 Batch 1:  Loss:     0.9628 Validation Accuracy: 0.550600\n",
      "Epoch 27, CIFAR-10 Batch 1:  Loss:     0.9561 Validation Accuracy: 0.545400\n",
      "Epoch 28, CIFAR-10 Batch 1:  Loss:     0.9276 Validation Accuracy: 0.567400\n",
      "Epoch 29, CIFAR-10 Batch 1:  Loss:     0.9296 Validation Accuracy: 0.559600\n",
      "Epoch 30, CIFAR-10 Batch 1:  Loss:     0.8500 Validation Accuracy: 0.565400\n"
     ]
    }
   ],
   "source": [
    "from __future__ import print_function\n",
    "\"\"\"\n",
    "DON'T MODIFY ANYTHING IN THIS CELL\n",
    "\"\"\"\n",
    "print('Checking the Training on a Single Batch...')\n",
    "with tf.Session() as sess:\n",
    "    # Initializing the variables\n",
    "    sess.run(tf.global_variables_initializer())\n",
    "    \n",
    "    # Training cycle\n",
    "    for epoch in range(epochs):\n",
    "        batch_i = 1\n",
    "        for batch_features, batch_labels in helper.load_preprocess_training_batch(batch_i, batch_size):\n",
    "            train_neural_network(sess, optimizer, keep_probability, batch_features, batch_labels)\n",
    "        print('Epoch {:>2}, CIFAR-10 Batch {}:  '.format(epoch + 1, batch_i), end='')\n",
    "        print_stats(sess, batch_features, batch_labels, cost, accuracy)"
   ]
  },
  {
   "cell_type": "markdown",
   "metadata": {},
   "source": [
    "### Fully Train the Model\n",
    "Now that you got a good accuracy with a single CIFAR-10 batch, try it with all five batches."
   ]
  },
  {
   "cell_type": "code",
   "execution_count": 42,
   "metadata": {},
   "outputs": [
    {
     "name": "stdout",
     "output_type": "stream",
     "text": [
      "Training...\n",
      "Epoch  1, CIFAR-10 Batch 1:  Loss:     2.2194 Validation Accuracy: 0.211400\n",
      "Epoch  1, CIFAR-10 Batch 2:  Loss:     1.9656 Validation Accuracy: 0.301200\n",
      "Epoch  1, CIFAR-10 Batch 3:  Loss:     1.6590 Validation Accuracy: 0.337400\n",
      "Epoch  1, CIFAR-10 Batch 4:  Loss:     1.7934 Validation Accuracy: 0.363000\n",
      "Epoch  1, CIFAR-10 Batch 5:  Loss:     1.7707 Validation Accuracy: 0.379200\n",
      "Epoch  2, CIFAR-10 Batch 1:  Loss:     1.8309 Validation Accuracy: 0.400600\n",
      "Epoch  2, CIFAR-10 Batch 2:  Loss:     1.6647 Validation Accuracy: 0.423400\n",
      "Epoch  2, CIFAR-10 Batch 3:  Loss:     1.4187 Validation Accuracy: 0.434000\n",
      "Epoch  2, CIFAR-10 Batch 4:  Loss:     1.5448 Validation Accuracy: 0.443200\n",
      "Epoch  2, CIFAR-10 Batch 5:  Loss:     1.6176 Validation Accuracy: 0.458400\n",
      "Epoch  3, CIFAR-10 Batch 1:  Loss:     1.6275 Validation Accuracy: 0.484600\n",
      "Epoch  3, CIFAR-10 Batch 2:  Loss:     1.5585 Validation Accuracy: 0.473600\n",
      "Epoch  3, CIFAR-10 Batch 3:  Loss:     1.2193 Validation Accuracy: 0.462800\n",
      "Epoch  3, CIFAR-10 Batch 4:  Loss:     1.3920 Validation Accuracy: 0.498600\n",
      "Epoch  3, CIFAR-10 Batch 5:  Loss:     1.4993 Validation Accuracy: 0.481000\n",
      "Epoch  4, CIFAR-10 Batch 1:  Loss:     1.4379 Validation Accuracy: 0.528400\n",
      "Epoch  4, CIFAR-10 Batch 2:  Loss:     1.4130 Validation Accuracy: 0.521800\n",
      "Epoch  4, CIFAR-10 Batch 3:  Loss:     1.1568 Validation Accuracy: 0.519400\n",
      "Epoch  4, CIFAR-10 Batch 4:  Loss:     1.3092 Validation Accuracy: 0.529800\n",
      "Epoch  4, CIFAR-10 Batch 5:  Loss:     1.3903 Validation Accuracy: 0.521200\n",
      "Epoch  5, CIFAR-10 Batch 1:  Loss:     1.3005 Validation Accuracy: 0.543400\n",
      "Epoch  5, CIFAR-10 Batch 2:  Loss:     1.2752 Validation Accuracy: 0.548400\n",
      "Epoch  5, CIFAR-10 Batch 3:  Loss:     1.0720 Validation Accuracy: 0.561400\n",
      "Epoch  5, CIFAR-10 Batch 4:  Loss:     1.2296 Validation Accuracy: 0.565600\n",
      "Epoch  5, CIFAR-10 Batch 5:  Loss:     1.2963 Validation Accuracy: 0.551400\n",
      "Epoch  6, CIFAR-10 Batch 1:  Loss:     1.1854 Validation Accuracy: 0.569600\n",
      "Epoch  6, CIFAR-10 Batch 2:  Loss:     1.3415 Validation Accuracy: 0.580800\n",
      "Epoch  6, CIFAR-10 Batch 3:  Loss:     0.9785 Validation Accuracy: 0.572200\n",
      "Epoch  6, CIFAR-10 Batch 4:  Loss:     1.1840 Validation Accuracy: 0.577400\n",
      "Epoch  6, CIFAR-10 Batch 5:  Loss:     1.2221 Validation Accuracy: 0.565400\n",
      "Epoch  7, CIFAR-10 Batch 1:  Loss:     1.1972 Validation Accuracy: 0.586000\n",
      "Epoch  7, CIFAR-10 Batch 2:  Loss:     1.2211 Validation Accuracy: 0.601400\n",
      "Epoch  7, CIFAR-10 Batch 3:  Loss:     0.9319 Validation Accuracy: 0.595000\n",
      "Epoch  7, CIFAR-10 Batch 4:  Loss:     1.1141 Validation Accuracy: 0.605200\n",
      "Epoch  7, CIFAR-10 Batch 5:  Loss:     1.0642 Validation Accuracy: 0.585400\n",
      "Epoch  8, CIFAR-10 Batch 1:  Loss:     1.0994 Validation Accuracy: 0.613600\n",
      "Epoch  8, CIFAR-10 Batch 2:  Loss:     1.1567 Validation Accuracy: 0.600800\n",
      "Epoch  8, CIFAR-10 Batch 3:  Loss:     0.8615 Validation Accuracy: 0.614200\n",
      "Epoch  8, CIFAR-10 Batch 4:  Loss:     1.0573 Validation Accuracy: 0.613600\n",
      "Epoch  8, CIFAR-10 Batch 5:  Loss:     1.0052 Validation Accuracy: 0.606600\n",
      "Epoch  9, CIFAR-10 Batch 1:  Loss:     1.0625 Validation Accuracy: 0.620200\n",
      "Epoch  9, CIFAR-10 Batch 2:  Loss:     1.1213 Validation Accuracy: 0.618600\n",
      "Epoch  9, CIFAR-10 Batch 3:  Loss:     0.7865 Validation Accuracy: 0.612400\n",
      "Epoch  9, CIFAR-10 Batch 4:  Loss:     1.0259 Validation Accuracy: 0.633200\n",
      "Epoch  9, CIFAR-10 Batch 5:  Loss:     0.9722 Validation Accuracy: 0.615200\n",
      "Epoch 10, CIFAR-10 Batch 1:  Loss:     1.0442 Validation Accuracy: 0.641000\n",
      "Epoch 10, CIFAR-10 Batch 2:  Loss:     1.1363 Validation Accuracy: 0.633800\n",
      "Epoch 10, CIFAR-10 Batch 3:  Loss:     0.7964 Validation Accuracy: 0.618000\n",
      "Epoch 10, CIFAR-10 Batch 4:  Loss:     0.9615 Validation Accuracy: 0.642000\n",
      "Epoch 10, CIFAR-10 Batch 5:  Loss:     0.9541 Validation Accuracy: 0.634800\n",
      "Epoch 11, CIFAR-10 Batch 1:  Loss:     0.9699 Validation Accuracy: 0.640000\n",
      "Epoch 11, CIFAR-10 Batch 2:  Loss:     1.0514 Validation Accuracy: 0.644800\n",
      "Epoch 11, CIFAR-10 Batch 3:  Loss:     0.7174 Validation Accuracy: 0.622800\n",
      "Epoch 11, CIFAR-10 Batch 4:  Loss:     0.9308 Validation Accuracy: 0.646600\n",
      "Epoch 11, CIFAR-10 Batch 5:  Loss:     0.9392 Validation Accuracy: 0.641000\n",
      "Epoch 12, CIFAR-10 Batch 1:  Loss:     0.8763 Validation Accuracy: 0.652200\n",
      "Epoch 12, CIFAR-10 Batch 2:  Loss:     0.9772 Validation Accuracy: 0.654200\n",
      "Epoch 12, CIFAR-10 Batch 3:  Loss:     0.6725 Validation Accuracy: 0.636200\n",
      "Epoch 12, CIFAR-10 Batch 4:  Loss:     0.9256 Validation Accuracy: 0.651800\n",
      "Epoch 12, CIFAR-10 Batch 5:  Loss:     0.8225 Validation Accuracy: 0.663600\n",
      "Epoch 13, CIFAR-10 Batch 1:  Loss:     0.8933 Validation Accuracy: 0.657400\n",
      "Epoch 13, CIFAR-10 Batch 2:  Loss:     0.9537 Validation Accuracy: 0.651400\n",
      "Epoch 13, CIFAR-10 Batch 3:  Loss:     0.5835 Validation Accuracy: 0.651200\n",
      "Epoch 13, CIFAR-10 Batch 4:  Loss:     0.8801 Validation Accuracy: 0.668400\n",
      "Epoch 13, CIFAR-10 Batch 5:  Loss:     0.7489 Validation Accuracy: 0.658600\n",
      "Epoch 14, CIFAR-10 Batch 1:  Loss:     0.8714 Validation Accuracy: 0.666200\n",
      "Epoch 14, CIFAR-10 Batch 2:  Loss:     0.9032 Validation Accuracy: 0.667800\n",
      "Epoch 14, CIFAR-10 Batch 3:  Loss:     0.6387 Validation Accuracy: 0.655200\n",
      "Epoch 14, CIFAR-10 Batch 4:  Loss:     0.8132 Validation Accuracy: 0.672600\n",
      "Epoch 14, CIFAR-10 Batch 5:  Loss:     0.7969 Validation Accuracy: 0.652800\n",
      "Epoch 15, CIFAR-10 Batch 1:  Loss:     0.8170 Validation Accuracy: 0.673200\n",
      "Epoch 15, CIFAR-10 Batch 2:  Loss:     0.9169 Validation Accuracy: 0.685200\n",
      "Epoch 15, CIFAR-10 Batch 3:  Loss:     0.5271 Validation Accuracy: 0.664000\n",
      "Epoch 15, CIFAR-10 Batch 4:  Loss:     0.7709 Validation Accuracy: 0.677200\n",
      "Epoch 15, CIFAR-10 Batch 5:  Loss:     0.6982 Validation Accuracy: 0.671800\n",
      "Epoch 16, CIFAR-10 Batch 1:  Loss:     0.7633 Validation Accuracy: 0.687800\n",
      "Epoch 16, CIFAR-10 Batch 2:  Loss:     0.7481 Validation Accuracy: 0.676200\n",
      "Epoch 16, CIFAR-10 Batch 3:  Loss:     0.5212 Validation Accuracy: 0.667600\n",
      "Epoch 16, CIFAR-10 Batch 4:  Loss:     0.7509 Validation Accuracy: 0.684200\n",
      "Epoch 16, CIFAR-10 Batch 5:  Loss:     0.6813 Validation Accuracy: 0.693400\n",
      "Epoch 17, CIFAR-10 Batch 1:  Loss:     0.8202 Validation Accuracy: 0.685000\n",
      "Epoch 17, CIFAR-10 Batch 2:  Loss:     0.7795 Validation Accuracy: 0.688800\n",
      "Epoch 17, CIFAR-10 Batch 3:  Loss:     0.5363 Validation Accuracy: 0.695400\n",
      "Epoch 17, CIFAR-10 Batch 4:  Loss:     0.6708 Validation Accuracy: 0.691600\n",
      "Epoch 17, CIFAR-10 Batch 5:  Loss:     0.6825 Validation Accuracy: 0.680600\n",
      "Epoch 18, CIFAR-10 Batch 1:  Loss:     0.8043 Validation Accuracy: 0.689000\n",
      "Epoch 18, CIFAR-10 Batch 2:  Loss:     0.7430 Validation Accuracy: 0.691800\n",
      "Epoch 18, CIFAR-10 Batch 3:  Loss:     0.5067 Validation Accuracy: 0.676200\n",
      "Epoch 18, CIFAR-10 Batch 4:  Loss:     0.7435 Validation Accuracy: 0.689600\n",
      "Epoch 18, CIFAR-10 Batch 5:  Loss:     0.6518 Validation Accuracy: 0.697400\n",
      "Epoch 19, CIFAR-10 Batch 1:  Loss:     0.7469 Validation Accuracy: 0.702200\n",
      "Epoch 19, CIFAR-10 Batch 2:  Loss:     0.6868 Validation Accuracy: 0.702200\n",
      "Epoch 19, CIFAR-10 Batch 3:  Loss:     0.4729 Validation Accuracy: 0.689000\n",
      "Epoch 19, CIFAR-10 Batch 4:  Loss:     0.6316 Validation Accuracy: 0.708200\n",
      "Epoch 19, CIFAR-10 Batch 5:  Loss:     0.6872 Validation Accuracy: 0.697800\n",
      "Epoch 20, CIFAR-10 Batch 1:  Loss:     0.6971 Validation Accuracy: 0.696200\n",
      "Epoch 20, CIFAR-10 Batch 2:  Loss:     0.7240 Validation Accuracy: 0.712200\n",
      "Epoch 20, CIFAR-10 Batch 3:  Loss:     0.4272 Validation Accuracy: 0.699600\n",
      "Epoch 20, CIFAR-10 Batch 4:  Loss:     0.6558 Validation Accuracy: 0.703200\n",
      "Epoch 20, CIFAR-10 Batch 5:  Loss:     0.6594 Validation Accuracy: 0.695400\n",
      "Epoch 21, CIFAR-10 Batch 1:  Loss:     0.6843 Validation Accuracy: 0.706800\n",
      "Epoch 21, CIFAR-10 Batch 2:  Loss:     0.6488 Validation Accuracy: 0.696200\n",
      "Epoch 21, CIFAR-10 Batch 3:  Loss:     0.4171 Validation Accuracy: 0.697800\n",
      "Epoch 21, CIFAR-10 Batch 4:  Loss:     0.7371 Validation Accuracy: 0.704600\n",
      "Epoch 21, CIFAR-10 Batch 5:  Loss:     0.6266 Validation Accuracy: 0.698400\n",
      "Epoch 22, CIFAR-10 Batch 1:  Loss:     0.6559 Validation Accuracy: 0.699000\n",
      "Epoch 22, CIFAR-10 Batch 2:  Loss:     0.7047 Validation Accuracy: 0.697600\n",
      "Epoch 22, CIFAR-10 Batch 3:  Loss:     0.3735 Validation Accuracy: 0.698200\n"
     ]
    },
    {
     "name": "stdout",
     "output_type": "stream",
     "text": [
      "Epoch 22, CIFAR-10 Batch 4:  Loss:     0.6941 Validation Accuracy: 0.712400\n",
      "Epoch 22, CIFAR-10 Batch 5:  Loss:     0.5711 Validation Accuracy: 0.707800\n",
      "Epoch 23, CIFAR-10 Batch 1:  Loss:     0.6382 Validation Accuracy: 0.709000\n",
      "Epoch 23, CIFAR-10 Batch 2:  Loss:     0.6850 Validation Accuracy: 0.708800\n",
      "Epoch 23, CIFAR-10 Batch 3:  Loss:     0.3632 Validation Accuracy: 0.699600\n",
      "Epoch 23, CIFAR-10 Batch 4:  Loss:     0.6447 Validation Accuracy: 0.708000\n",
      "Epoch 23, CIFAR-10 Batch 5:  Loss:     0.5419 Validation Accuracy: 0.716400\n",
      "Epoch 24, CIFAR-10 Batch 1:  Loss:     0.6732 Validation Accuracy: 0.721800\n",
      "Epoch 24, CIFAR-10 Batch 2:  Loss:     0.6347 Validation Accuracy: 0.705000\n",
      "Epoch 24, CIFAR-10 Batch 3:  Loss:     0.3886 Validation Accuracy: 0.711200\n",
      "Epoch 24, CIFAR-10 Batch 4:  Loss:     0.5643 Validation Accuracy: 0.717600\n",
      "Epoch 24, CIFAR-10 Batch 5:  Loss:     0.5478 Validation Accuracy: 0.710400\n",
      "Epoch 25, CIFAR-10 Batch 1:  Loss:     0.6373 Validation Accuracy: 0.706600\n",
      "Epoch 25, CIFAR-10 Batch 2:  Loss:     0.6675 Validation Accuracy: 0.720400\n",
      "Epoch 25, CIFAR-10 Batch 3:  Loss:     0.3855 Validation Accuracy: 0.706800\n",
      "Epoch 25, CIFAR-10 Batch 4:  Loss:     0.6574 Validation Accuracy: 0.705200\n",
      "Epoch 25, CIFAR-10 Batch 5:  Loss:     0.5553 Validation Accuracy: 0.719200\n",
      "Epoch 26, CIFAR-10 Batch 1:  Loss:     0.6083 Validation Accuracy: 0.727200\n",
      "Epoch 26, CIFAR-10 Batch 2:  Loss:     0.6392 Validation Accuracy: 0.726800\n",
      "Epoch 26, CIFAR-10 Batch 3:  Loss:     0.4198 Validation Accuracy: 0.709400\n",
      "Epoch 26, CIFAR-10 Batch 4:  Loss:     0.5541 Validation Accuracy: 0.725200\n",
      "Epoch 26, CIFAR-10 Batch 5:  Loss:     0.5313 Validation Accuracy: 0.721000\n",
      "Epoch 27, CIFAR-10 Batch 1:  Loss:     0.5951 Validation Accuracy: 0.718400\n",
      "Epoch 27, CIFAR-10 Batch 2:  Loss:     0.5733 Validation Accuracy: 0.716000\n",
      "Epoch 27, CIFAR-10 Batch 3:  Loss:     0.3769 Validation Accuracy: 0.717600\n",
      "Epoch 27, CIFAR-10 Batch 4:  Loss:     0.5398 Validation Accuracy: 0.711800\n",
      "Epoch 27, CIFAR-10 Batch 5:  Loss:     0.4705 Validation Accuracy: 0.718200\n",
      "Epoch 28, CIFAR-10 Batch 1:  Loss:     0.6025 Validation Accuracy: 0.724600\n",
      "Epoch 28, CIFAR-10 Batch 2:  Loss:     0.5884 Validation Accuracy: 0.720800\n",
      "Epoch 28, CIFAR-10 Batch 3:  Loss:     0.3849 Validation Accuracy: 0.710800\n",
      "Epoch 28, CIFAR-10 Batch 4:  Loss:     0.5438 Validation Accuracy: 0.711000\n",
      "Epoch 28, CIFAR-10 Batch 5:  Loss:     0.4487 Validation Accuracy: 0.719400\n",
      "Epoch 29, CIFAR-10 Batch 1:  Loss:     0.5953 Validation Accuracy: 0.728400\n",
      "Epoch 29, CIFAR-10 Batch 2:  Loss:     0.5958 Validation Accuracy: 0.727800\n",
      "Epoch 29, CIFAR-10 Batch 3:  Loss:     0.4092 Validation Accuracy: 0.721200\n",
      "Epoch 29, CIFAR-10 Batch 4:  Loss:     0.5945 Validation Accuracy: 0.714000\n",
      "Epoch 29, CIFAR-10 Batch 5:  Loss:     0.4446 Validation Accuracy: 0.730600\n",
      "Epoch 30, CIFAR-10 Batch 1:  Loss:     0.5570 Validation Accuracy: 0.721400\n",
      "Epoch 30, CIFAR-10 Batch 2:  Loss:     0.6217 Validation Accuracy: 0.715800\n",
      "Epoch 30, CIFAR-10 Batch 3:  Loss:     0.3241 Validation Accuracy: 0.730800\n",
      "Epoch 30, CIFAR-10 Batch 4:  Loss:     0.4818 Validation Accuracy: 0.727400\n",
      "Epoch 30, CIFAR-10 Batch 5:  Loss:     0.4290 Validation Accuracy: 0.729000\n"
     ]
    }
   ],
   "source": [
    "\"\"\"\n",
    "DON'T MODIFY ANYTHING IN THIS CELL\n",
    "\"\"\"\n",
    "save_model_path = './image_classification'\n",
    "\n",
    "print('Training...')\n",
    "with tf.Session() as sess:\n",
    "    # Initializing the variables\n",
    "    sess.run(tf.global_variables_initializer())\n",
    "    \n",
    "    # Training cycle\n",
    "    for epoch in range(epochs):\n",
    "        # Loop over all batches\n",
    "        n_batches = 5\n",
    "        for batch_i in range(1, n_batches + 1):\n",
    "            for batch_features, batch_labels in helper.load_preprocess_training_batch(batch_i, batch_size):\n",
    "                train_neural_network(sess, optimizer, keep_probability, batch_features, batch_labels)\n",
    "            print('Epoch {:>2}, CIFAR-10 Batch {}:  '.format(epoch + 1, batch_i), end='')\n",
    "            print_stats(sess, batch_features, batch_labels, cost, accuracy)\n",
    "            \n",
    "    # Save Model\n",
    "    saver = tf.train.Saver()\n",
    "    save_path = saver.save(sess, save_model_path)"
   ]
  },
  {
   "cell_type": "markdown",
   "metadata": {},
   "source": [
    "# Checkpoint\n",
    "The model has been saved to disk.\n",
    "## Test Model\n",
    "Test your model against the test dataset.  This will be your final accuracy. You should have an accuracy greater than 50%. If you don't, keep tweaking the model architecture and parameters."
   ]
  },
  {
   "cell_type": "code",
   "execution_count": 43,
   "metadata": {},
   "outputs": [
    {
     "name": "stdout",
     "output_type": "stream",
     "text": [
      "INFO:tensorflow:Restoring parameters from ./image_classification\n",
      "Testing Accuracy: 0.723496835443\n",
      "\n"
     ]
    },
    {
     "data": {
      "image/png": "[encoded data removed]",
      "text/plain": [
       "<matplotlib.figure.Figure at 0x124f63c10>"
      ]
     },
     "metadata": {
      "image/png": {
       "height": 319,
       "width": 355
      }
     },
     "output_type": "display_data"
    }
   ],
   "source": [
    "\"\"\"\n",
    "DON'T MODIFY ANYTHING IN THIS CELL\n",
    "\"\"\"\n",
    "%matplotlib inline\n",
    "%config InlineBackend.figure_format = 'retina'\n",
    "\n",
    "import tensorflow as tf\n",
    "import pickle\n",
    "import helper\n",
    "import random\n",
    "\n",
    "# Set batch size if not already set\n",
    "try:\n",
    "    if batch_size:\n",
    "        pass\n",
    "except NameError:\n",
    "    batch_size = 64\n",
    "\n",
    "save_model_path = './image_classification'\n",
    "n_samples = 4\n",
    "top_n_predictions = 3\n",
    "\n",
    "def test_model():\n",
    "    \"\"\"\n",
    "    Test the saved model against the test dataset\n",
    "    \"\"\"\n",
    "\n",
    "    test_features, test_labels = pickle.load(open('preprocess_test.p', mode='rb'))\n",
    "    loaded_graph = tf.Graph()\n",
    "\n",
    "    with tf.Session(graph=loaded_graph) as sess:\n",
    "        # Load model\n",
    "        loader = tf.train.import_meta_graph(save_model_path + '.meta')\n",
    "        loader.restore(sess, save_model_path)\n",
    "\n",
    "        # Get Tensors from loaded model\n",
    "        loaded_x = loaded_graph.get_tensor_by_name('x:0')\n",
    "        loaded_y = loaded_graph.get_tensor_by_name('y:0')\n",
    "        loaded_keep_prob = loaded_graph.get_tensor_by_name('keep_prob:0')\n",
    "        loaded_logits = loaded_graph.get_tensor_by_name('logits:0')\n",
    "        loaded_acc = loaded_graph.get_tensor_by_name('accuracy:0')\n",
    "        \n",
    "        # Get accuracy in batches for memory limitations\n",
    "        test_batch_acc_total = 0\n",
    "        test_batch_count = 0\n",
    "        \n",
    "        for test_feature_batch, test_label_batch in helper.batch_features_labels(test_features, test_labels, batch_size):\n",
    "            test_batch_acc_total += sess.run(\n",
    "                loaded_acc,\n",
    "                feed_dict={loaded_x: test_feature_batch, loaded_y: test_label_batch, loaded_keep_prob: 1.0})\n",
    "            test_batch_count += 1\n",
    "\n",
    "        print('Testing Accuracy: {}\\n'.format(test_batch_acc_total/test_batch_count))\n",
    "\n",
    "        # Print Random Samples\n",
    "        random_test_features, random_test_labels = tuple(zip(*random.sample(list(zip(test_features, test_labels)), n_samples)))\n",
    "        random_test_predictions = sess.run(\n",
    "            tf.nn.top_k(tf.nn.softmax(loaded_logits), top_n_predictions),\n",
    "            feed_dict={loaded_x: random_test_features, loaded_y: random_test_labels, loaded_keep_prob: 1.0})\n",
    "        helper.display_image_predictions(random_test_features, random_test_labels, random_test_predictions)\n",
    "\n",
    "\n",
    "test_model()"
   ]
  },
  {
   "cell_type": "markdown",
   "metadata": {},
   "source": [
    "## Why 50-80% Accuracy?\n",
    "You might be wondering why you can't get an accuracy any higher. First things first, 50% isn't bad for a simple CNN.  Pure guessing would get you 10% accuracy. However, you might notice people are getting scores [well above 80%](http://rodrigob.github.io/are_we_there_yet/build/classification_datasets_results.html#43494641522d3130).  That's because we haven't taught you all there is to know about neural networks. We still need to cover a few more techniques.\n",
    "## Submitting This Project\n",
    "When submitting this project, make sure to run all the cells before saving the notebook.  Save the notebook file as \"dlnd_image_classification.ipynb\" and save it as a HTML file under \"File\" -> \"Download as\".  Include the \"helper.py\" and \"problem_unittests.py\" files in your submission."
   ]
  }
 ],
 "metadata": {
  "kernelspec": {
   "display_name": "Python 2",
   "language": "python",
   "name": "python2"
  },
  "language_info": {
   "codemirror_mode": {
    "name": "ipython",
    "version": 2
   },
   "file_extension": ".py",
   "mimetype": "text/x-python",
   "name": "python",
   "nbconvert_exporter": "python",
   "pygments_lexer": "ipython2",
   "version": "2.7.13"
  }
 },
 "nbformat": 4,
 "nbformat_minor": 1
}
