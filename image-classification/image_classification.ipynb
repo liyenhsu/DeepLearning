{
 "cells": [
  {
   "cell_type": "markdown",
   "metadata": {
    "collapsed": true
   },
   "source": [
    "# Image Classification\n",
    "In this project, you'll classify images from the [CIFAR-10 dataset](https://www.cs.toronto.edu/~kriz/cifar.html).  The dataset consists of airplanes, dogs, cats, and other objects. You'll preprocess the images, then train a convolutional neural network on all the samples. The images need to be normalized and the labels need to be one-hot encoded.  You'll get to apply what you learned and build a convolutional, max pooling, dropout, and fully connected layers.  At the end, you'll get to see your neural network's predictions on the sample images.\n",
    "## Get the Data\n",
    "Run the following cell to download the [CIFAR-10 dataset for python](https://www.cs.toronto.edu/~kriz/cifar-10-python.tar.gz)."
   ]
  },
  {
   "cell_type": "code",
   "execution_count": 1,
   "metadata": {},
   "outputs": [
    {
     "name": "stdout",
     "output_type": "stream",
     "text": [
      "All files found!\n"
     ]
    }
   ],
   "source": [
    "\"\"\"\n",
    "DON'T MODIFY ANYTHING IN THIS CELL THAT IS BELOW THIS LINE\n",
    "\"\"\"\n",
    "#from urllib.request import urlretrieve\n",
    "from urllib import urlretrieve\n",
    "\n",
    "from os.path import isfile, isdir\n",
    "from tqdm import tqdm\n",
    "import problem_unittests as tests\n",
    "import tarfile\n",
    "\n",
    "cifar10_dataset_folder_path = 'cifar-10-batches-py'\n",
    "\n",
    "# Use Floyd's cifar-10 dataset if present\n",
    "floyd_cifar10_location = '/cifar/cifar-10-python.tar.gz'\n",
    "if isfile(floyd_cifar10_location):\n",
    "    tar_gz_path = floyd_cifar10_location\n",
    "else:\n",
    "    tar_gz_path = 'cifar-10-python.tar.gz'\n",
    "\n",
    "class DLProgress(tqdm):\n",
    "    last_block = 0\n",
    "\n",
    "    def hook(self, block_num=1, block_size=1, total_size=None):\n",
    "        self.total = total_size\n",
    "        self.update((block_num - self.last_block) * block_size)\n",
    "        self.last_block = block_num\n",
    "\n",
    "if not isfile(tar_gz_path):\n",
    "    with DLProgress(unit='B', unit_scale=True, miniters=1, desc='CIFAR-10 Dataset') as pbar:\n",
    "        urlretrieve(\n",
    "            'https://www.cs.toronto.edu/~kriz/cifar-10-python.tar.gz',\n",
    "            tar_gz_path,\n",
    "            pbar.hook)\n",
    "\n",
    "if not isdir(cifar10_dataset_folder_path):\n",
    "    with tarfile.open(tar_gz_path) as tar:\n",
    "        tar.extractall()\n",
    "        tar.close()\n",
    "\n",
    "\n",
    "tests.test_folder_path(cifar10_dataset_folder_path)"
   ]
  },
  {
   "cell_type": "markdown",
   "metadata": {},
   "source": [
    "## Explore the Data\n",
    "The dataset is broken into batches to prevent your machine from running out of memory.  The CIFAR-10 dataset consists of 5 batches, named `data_batch_1`, `data_batch_2`, etc.. Each batch contains the labels and images that are one of the following:\n",
    "* airplane\n",
    "* automobile\n",
    "* bird\n",
    "* cat\n",
    "* deer\n",
    "* dog\n",
    "* frog\n",
    "* horse\n",
    "* ship\n",
    "* truck\n",
    "\n",
    "Understanding a dataset is part of making predictions on the data.  Play around with the code cell below by changing the `batch_id` and `sample_id`. The `batch_id` is the id for a batch (1-5). The `sample_id` is the id for a image and label pair in the batch.\n",
    "\n",
    "Ask yourself \"What are all possible labels?\", \"What is the range of values for the image data?\", \"Are the labels in order or random?\".  Answers to questions like these will help you preprocess the data and end up with better predictions."
   ]
  },
  {
   "cell_type": "code",
   "execution_count": 2,
   "metadata": {},
   "outputs": [
    {
     "name": "stdout",
     "output_type": "stream",
     "text": [
      "\n",
      "Stats of batch 2:\n",
      "Samples: 10000\n",
      "Label Counts: {0: 984, 1: 1007, 2: 1010, 3: 995, 4: 1010, 5: 988, 6: 1008, 7: 1026, 8: 987, 9: 985}\n",
      "First 20 Labels: [1, 6, 6, 8, 8, 3, 4, 6, 0, 6, 0, 3, 6, 6, 5, 4, 8, 3, 2, 6]\n",
      "\n",
      "Example of Image 20:\n",
      "Image - Min Value: 24 Max Value: 206\n",
      "Image - Shape: (32, 32, 3)\n",
      "Label - Label Id: 0 Name: airplane\n"
     ]
    },
    {
     "data": {
      "image/png": "[encoded data removed]",
      "text/plain": [
       "<matplotlib.figure.Figure at 0x11a4f2310>"
      ]
     },
     "metadata": {
      "image/png": {
       "height": 250,
       "width": 253
      }
     },
     "output_type": "display_data"
    }
   ],
   "source": [
    "%matplotlib inline\n",
    "%config InlineBackend.figure_format = 'retina'\n",
    "\n",
    "import helper\n",
    "import numpy as np\n",
    "\n",
    "# Explore the dataset\n",
    "batch_id = 2\n",
    "sample_id = 20\n",
    "helper.display_stats(cifar10_dataset_folder_path, batch_id, sample_id)"
   ]
  },
  {
   "cell_type": "markdown",
   "metadata": {},
   "source": [
    "## Implement Preprocess Functions\n",
    "### Normalize\n",
    "In the cell below, implement the `normalize` function to take in image data, `x`, and return it as a normalized Numpy array. The values should be in the range of 0 to 1, inclusive.  The return object should be the same shape as `x`."
   ]
  },
  {
   "cell_type": "code",
   "execution_count": 3,
   "metadata": {},
   "outputs": [
    {
     "name": "stdout",
     "output_type": "stream",
     "text": [
      "Tests Passed\n"
     ]
    }
   ],
   "source": [
    "def normalize(x):\n",
    "    \"\"\"\n",
    "    Normalize a list of sample image data in the range of 0 to 1\n",
    "    : x: List of image data.  The image shape is (32, 32, 3)\n",
    "    : return: Numpy array of normalize data\n",
    "    \"\"\"\n",
    "    # TODO: Implement Function\n",
    "    return np.array(x)/255.\n",
    "\n",
    "\n",
    "\"\"\"\n",
    "DON'T MODIFY ANYTHING IN THIS CELL THAT IS BELOW THIS LINE\n",
    "\"\"\"\n",
    "tests.test_normalize(normalize)"
   ]
  },
  {
   "cell_type": "markdown",
   "metadata": {},
   "source": [
    "### One-hot encode\n",
    "Just like the previous code cell, you'll be implementing a function for preprocessing.  This time, you'll implement the `one_hot_encode` function. The input, `x`, are a list of labels.  Implement the function to return the list of labels as One-Hot encoded Numpy array.  The possible values for labels are 0 to 9. The one-hot encoding function should return the same encoding for each value between each call to `one_hot_encode`.  Make sure to save the map of encodings outside the function.\n",
    "\n",
    "Hint: Don't reinvent the wheel."
   ]
  },
  {
   "cell_type": "code",
   "execution_count": 4,
   "metadata": {},
   "outputs": [
    {
     "name": "stdout",
     "output_type": "stream",
     "text": [
      "Tests Passed\n"
     ]
    }
   ],
   "source": [
    "def one_hot_encode(x):\n",
    "    \"\"\"\n",
    "    One hot encode a list of sample labels. Return a one-hot encoded vector for each label.\n",
    "    : x: List of sample Labels\n",
    "    : return: Numpy array of one-hot encoded labels\n",
    "    \"\"\"\n",
    "    # TODO: Implement Function    \n",
    "    return np.eye(10)[x]\n",
    "\n",
    "\n",
    "\"\"\"\n",
    "DON'T MODIFY ANYTHING IN THIS CELL THAT IS BELOW THIS LINE\n",
    "\"\"\"\n",
    "tests.test_one_hot_encode(one_hot_encode)"
   ]
  },
  {
   "cell_type": "markdown",
   "metadata": {},
   "source": [
    "### Randomize Data\n",
    "As you saw from exploring the data above, the order of the samples are randomized.  It doesn't hurt to randomize it again, but you don't need to for this dataset."
   ]
  },
  {
   "cell_type": "markdown",
   "metadata": {},
   "source": [
    "## Preprocess all the data and save it\n",
    "Running the code cell below will preprocess all the CIFAR-10 data and save it to file. The code below also uses 10% of the training data for validation."
   ]
  },
  {
   "cell_type": "code",
   "execution_count": 5,
   "metadata": {
    "collapsed": true
   },
   "outputs": [],
   "source": [
    "\"\"\"\n",
    "DON'T MODIFY ANYTHING IN THIS CELL\n",
    "\"\"\"\n",
    "# Preprocess Training, Validation, and Testing Data\n",
    "helper.preprocess_and_save_data(cifar10_dataset_folder_path, normalize, one_hot_encode)"
   ]
  },
  {
   "cell_type": "markdown",
   "metadata": {},
   "source": [
    "# Check Point\n",
    "This is your first checkpoint.  If you ever decide to come back to this notebook or have to restart the notebook, you can start from here.  The preprocessed data has been saved to disk."
   ]
  },
  {
   "cell_type": "code",
   "execution_count": 6,
   "metadata": {
    "collapsed": true
   },
   "outputs": [],
   "source": [
    "\"\"\"\n",
    "DON'T MODIFY ANYTHING IN THIS CELL\n",
    "\"\"\"\n",
    "import pickle\n",
    "import problem_unittests as tests\n",
    "import helper\n",
    "\n",
    "# Load the Preprocessed Validation data\n",
    "valid_features, valid_labels = pickle.load(open('preprocess_validation.p', mode='rb'))"
   ]
  },
  {
   "cell_type": "markdown",
   "metadata": {},
   "source": [
    "## Build the network\n",
    "For the neural network, you'll build each layer into a function.  Most of the code you've seen has been outside of functions. To test your code more thoroughly, we require that you put each layer in a function.  This allows us to give you better feedback and test for simple mistakes using our unittests before you submit your project.\n",
    "\n",
    ">**Note:** If you're finding it hard to dedicate enough time for this course each week, we've provided a small shortcut to this part of the project. In the next couple of problems, you'll have the option to use classes from the [TensorFlow Layers](https://www.tensorflow.org/api_docs/python/tf/layers) or [TensorFlow Layers (contrib)](https://www.tensorflow.org/api_guides/python/contrib.layers) packages to build each layer, except the layers you build in the \"Convolutional and Max Pooling Layer\" section.  TF Layers is similar to Keras's and TFLearn's abstraction to layers, so it's easy to pickup.\n",
    "\n",
    ">However, if you would like to get the most out of this course, try to solve all the problems _without_ using anything from the TF Layers packages. You **can** still use classes from other packages that happen to have the same name as ones you find in TF Layers! For example, instead of using the TF Layers version of the `conv2d` class, [tf.layers.conv2d](https://www.tensorflow.org/api_docs/python/tf/layers/conv2d), you would want to use the TF Neural Network version of `conv2d`, [tf.nn.conv2d](https://www.tensorflow.org/api_docs/python/tf/nn/conv2d). \n",
    "\n",
    "Let's begin!\n",
    "\n",
    "### Input\n",
    "The neural network needs to read the image data, one-hot encoded labels, and dropout keep probability. Implement the following functions\n",
    "* Implement `neural_net_image_input`\n",
    " * Return a [TF Placeholder](https://www.tensorflow.org/api_docs/python/tf/placeholder)\n",
    " * Set the shape using `image_shape` with batch size set to `None`.\n",
    " * Name the TensorFlow placeholder \"x\" using the TensorFlow `name` parameter in the [TF Placeholder](https://www.tensorflow.org/api_docs/python/tf/placeholder).\n",
    "* Implement `neural_net_label_input`\n",
    " * Return a [TF Placeholder](https://www.tensorflow.org/api_docs/python/tf/placeholder)\n",
    " * Set the shape using `n_classes` with batch size set to `None`.\n",
    " * Name the TensorFlow placeholder \"y\" using the TensorFlow `name` parameter in the [TF Placeholder](https://www.tensorflow.org/api_docs/python/tf/placeholder).\n",
    "* Implement `neural_net_keep_prob_input`\n",
    " * Return a [TF Placeholder](https://www.tensorflow.org/api_docs/python/tf/placeholder) for dropout keep probability.\n",
    " * Name the TensorFlow placeholder \"keep_prob\" using the TensorFlow `name` parameter in the [TF Placeholder](https://www.tensorflow.org/api_docs/python/tf/placeholder).\n",
    "\n",
    "These names will be used at the end of the project to load your saved model.\n",
    "\n",
    "Note: `None` for shapes in TensorFlow allow for a dynamic size."
   ]
  },
  {
   "cell_type": "code",
   "execution_count": 7,
   "metadata": {},
   "outputs": [
    {
     "name": "stdout",
     "output_type": "stream",
     "text": [
      "Image Input Tests Passed.\n",
      "Label Input Tests Passed.\n",
      "Keep Prob Tests Passed.\n"
     ]
    }
   ],
   "source": [
    "import tensorflow as tf\n",
    "\n",
    "def neural_net_image_input(image_shape):\n",
    "    \"\"\"\n",
    "    Return a Tensor for a batch of image input\n",
    "    : image_shape: Shape of the images\n",
    "    : return: Tensor for image input.\n",
    "    \"\"\"\n",
    "    # TODO: Implement Function\n",
    "    return tf.placeholder(tf.float32, shape=[None]+list(image_shape), name='x')\n",
    "\n",
    "\n",
    "def neural_net_label_input(n_classes):\n",
    "    \"\"\"\n",
    "    Return a Tensor for a batch of label input\n",
    "    : n_classes: Number of classes\n",
    "    : return: Tensor for label input.\n",
    "    \"\"\"\n",
    "    # TODO: Implement Function\n",
    "    return tf.placeholder(tf.float32, shape=[None, n_classes], name='y')\n",
    "\n",
    "\n",
    "def neural_net_keep_prob_input():\n",
    "    \"\"\"\n",
    "    Return a Tensor for keep probability\n",
    "    : return: Tensor for keep probability.\n",
    "    \"\"\"\n",
    "    # TODO: Implement Function\n",
    "    return tf.placeholder(tf.float32, name='keep_prob')\n",
    "\n",
    "\n",
    "\"\"\"\n",
    "DON'T MODIFY ANYTHING IN THIS CELL THAT IS BELOW THIS LINE\n",
    "\"\"\"\n",
    "tf.reset_default_graph()\n",
    "tests.test_nn_image_inputs(neural_net_image_input)\n",
    "tests.test_nn_label_inputs(neural_net_label_input)\n",
    "tests.test_nn_keep_prob_inputs(neural_net_keep_prob_input)"
   ]
  },
  {
   "cell_type": "markdown",
   "metadata": {},
   "source": [
    "### Convolution and Max Pooling Layer\n",
    "Convolution layers have a lot of success with images. For this code cell, you should implement the function `conv2d_maxpool` to apply convolution then max pooling:\n",
    "* Create the weight and bias using `conv_ksize`, `conv_num_outputs` and the shape of `x_tensor`.\n",
    "* Apply a convolution to `x_tensor` using weight and `conv_strides`.\n",
    " * We recommend you use same padding, but you're welcome to use any padding.\n",
    "* Add bias\n",
    "* Add a nonlinear activation to the convolution.\n",
    "* Apply Max Pooling using `pool_ksize` and `pool_strides`.\n",
    " * We recommend you use same padding, but you're welcome to use any padding.\n",
    "\n",
    "**Note:** You **can't** use [TensorFlow Layers](https://www.tensorflow.org/api_docs/python/tf/layers) or [TensorFlow Layers (contrib)](https://www.tensorflow.org/api_guides/python/contrib.layers) for **this** layer, but you can still use TensorFlow's [Neural Network](https://www.tensorflow.org/api_docs/python/tf/nn) package. You may still use the shortcut option for all the **other** layers."
   ]
  },
  {
   "cell_type": "code",
   "execution_count": 8,
   "metadata": {},
   "outputs": [
    {
     "name": "stdout",
     "output_type": "stream",
     "text": [
      "Tests Passed\n"
     ]
    }
   ],
   "source": [
    "def conv2d_maxpool(x_tensor, conv_num_outputs, conv_ksize, conv_strides, pool_ksize, pool_strides):\n",
    "    \"\"\"\n",
    "    Apply convolution then max pooling to x_tensor\n",
    "    :param x_tensor: TensorFlow Tensor\n",
    "    :param conv_num_outputs: Number of outputs for the convolutional layer\n",
    "    :param conv_ksize: kernal size 2-D Tuple for the convolutional layer\n",
    "    :param conv_strides: Stride 2-D Tuple for convolution\n",
    "    :param pool_ksize: kernal size 2-D Tuple for pool\n",
    "    :param pool_strides: Stride 2-D Tuple for pool\n",
    "    : return: A tensor that represents convolution and max pooling of x_tensor\n",
    "    \"\"\"\n",
    "    # TODO: Implement Function\n",
    "    n_H = conv_ksize[0]\n",
    "    n_W = conv_ksize[1]\n",
    "    strides_H = conv_strides[0]\n",
    "    strides_W = conv_strides[1]\n",
    "    pool_H = pool_ksize[0]\n",
    "    pool_W = pool_ksize[1]\n",
    "    poolstrides_H = pool_strides[0]\n",
    "    poolstrides_W = pool_strides[1]        \n",
    "    depth_in = x_tensor.get_shape().as_list()[3]\n",
    "    depth_out = conv_num_outputs\n",
    "        \n",
    "    W =  tf.Variable(tf.truncated_normal([n_H,n_W,depth_in,depth_out], stddev = 1.0/depth_out))\n",
    "    b =  tf.Variable(tf.zeros(depth_out))\n",
    "    Z = tf.nn.conv2d(x_tensor, W, strides = [1,strides_H,strides_W,1], padding = 'SAME')\n",
    "    Z = tf.add(Z, b)\n",
    "    P = tf.nn.max_pool(Z, ksize = [1,pool_H,pool_W,1], strides = [1,poolstrides_H,poolstrides_W,1], padding = 'SAME')\n",
    "    A = tf.nn.relu(P)\n",
    "    \n",
    "    return A \n",
    "\n",
    "\n",
    "\"\"\"\n",
    "DON'T MODIFY ANYTHING IN THIS CELL THAT IS BELOW THIS LINE\n",
    "\"\"\"\n",
    "tests.test_con_pool(conv2d_maxpool)"
   ]
  },
  {
   "cell_type": "markdown",
   "metadata": {},
   "source": [
    "### Flatten Layer\n",
    "Implement the `flatten` function to change the dimension of `x_tensor` from a 4-D tensor to a 2-D tensor.  The output should be the shape (*Batch Size*, *Flattened Image Size*). Shortcut option: you can use classes from the [TensorFlow Layers](https://www.tensorflow.org/api_docs/python/tf/layers) or [TensorFlow Layers (contrib)](https://www.tensorflow.org/api_guides/python/contrib.layers) packages for this layer. For more of a challenge, only use other TensorFlow packages."
   ]
  },
  {
   "cell_type": "code",
   "execution_count": 9,
   "metadata": {},
   "outputs": [
    {
     "name": "stdout",
     "output_type": "stream",
     "text": [
      "Tests Passed\n"
     ]
    }
   ],
   "source": [
    "def flatten(x_tensor):\n",
    "    \"\"\"\n",
    "    Flatten x_tensor to (Batch Size, Flattened Image Size)\n",
    "    : x_tensor: A tensor of size (Batch Size, ...), where ... are the image dimensions.\n",
    "    : return: A tensor of size (Batch Size, Flattened Image Size).\n",
    "    \"\"\"\n",
    "    # TODO: Implement Function\n",
    "    return tf.contrib.layers.flatten(x_tensor)\n",
    "\n",
    "\n",
    "\"\"\"\n",
    "DON'T MODIFY ANYTHING IN THIS CELL THAT IS BELOW THIS LINE\n",
    "\"\"\"\n",
    "tests.test_flatten(flatten)"
   ]
  },
  {
   "cell_type": "markdown",
   "metadata": {},
   "source": [
    "### Fully-Connected Layer\n",
    "Implement the `fully_conn` function to apply a fully connected layer to `x_tensor` with the shape (*Batch Size*, *num_outputs*). Shortcut option: you can use classes from the [TensorFlow Layers](https://www.tensorflow.org/api_docs/python/tf/layers) or [TensorFlow Layers (contrib)](https://www.tensorflow.org/api_guides/python/contrib.layers) packages for this layer. For more of a challenge, only use other TensorFlow packages."
   ]
  },
  {
   "cell_type": "code",
   "execution_count": 10,
   "metadata": {},
   "outputs": [
    {
     "name": "stdout",
     "output_type": "stream",
     "text": [
      "Tests Passed\n"
     ]
    }
   ],
   "source": [
    "def fully_conn(x_tensor, num_outputs):\n",
    "    \"\"\"\n",
    "    Apply a fully connected layer to x_tensor using weight and bias\n",
    "    : x_tensor: A 2-D tensor where the first dimension is batch size.\n",
    "    : num_outputs: The number of output that the new tensor should be.\n",
    "    : return: A 2-D tensor where the second dimension is num_outputs.\n",
    "    \"\"\"\n",
    "    # TODO: Implement Function\n",
    "    return tf.contrib.layers.fully_connected(x_tensor, num_outputs)\n",
    "\n",
    "\n",
    "\"\"\"\n",
    "DON'T MODIFY ANYTHING IN THIS CELL THAT IS BELOW THIS LINE\n",
    "\"\"\"\n",
    "tests.test_fully_conn(fully_conn)"
   ]
  },
  {
   "cell_type": "markdown",
   "metadata": {},
   "source": [
    "### Output Layer\n",
    "Implement the `output` function to apply a fully connected layer to `x_tensor` with the shape (*Batch Size*, *num_outputs*). Shortcut option: you can use classes from the [TensorFlow Layers](https://www.tensorflow.org/api_docs/python/tf/layers) or [TensorFlow Layers (contrib)](https://www.tensorflow.org/api_guides/python/contrib.layers) packages for this layer. For more of a challenge, only use other TensorFlow packages.\n",
    "\n",
    "**Note:** Activation, softmax, or cross entropy should **not** be applied to this."
   ]
  },
  {
   "cell_type": "code",
   "execution_count": 11,
   "metadata": {},
   "outputs": [
    {
     "name": "stdout",
     "output_type": "stream",
     "text": [
      "Tests Passed\n"
     ]
    }
   ],
   "source": [
    "def output(x_tensor, num_outputs):\n",
    "    \"\"\"\n",
    "    Apply a output layer to x_tensor using weight and bias\n",
    "    : x_tensor: A 2-D tensor where the first dimension is batch size.\n",
    "    : num_outputs: The number of output that the new tensor should be.\n",
    "    : return: A 2-D tensor where the second dimension is num_outputs.\n",
    "    \"\"\"\n",
    "    # TODO: Implement Function\n",
    "    return tf.contrib.layers.fully_connected(x_tensor, num_outputs, activation_fn=None)\n",
    "\n",
    "\n",
    "\"\"\"\n",
    "DON'T MODIFY ANYTHING IN THIS CELL THAT IS BELOW THIS LINE\n",
    "\"\"\"\n",
    "tests.test_output(output)"
   ]
  },
  {
   "cell_type": "markdown",
   "metadata": {},
   "source": [
    "### Create Convolutional Model\n",
    "Implement the function `conv_net` to create a convolutional neural network model. The function takes in a batch of images, `x`, and outputs logits.  Use the layers you created above to create this model:\n",
    "\n",
    "* Apply 1, 2, or 3 Convolution and Max Pool layers\n",
    "* Apply a Flatten Layer\n",
    "* Apply 1, 2, or 3 Fully Connected Layers\n",
    "* Apply an Output Layer\n",
    "* Return the output\n",
    "* Apply [TensorFlow's Dropout](https://www.tensorflow.org/api_docs/python/tf/nn/dropout) to one or more layers in the model using `keep_prob`. "
   ]
  },
  {
   "cell_type": "code",
   "execution_count": 12,
   "metadata": {},
   "outputs": [
    {
     "name": "stdout",
     "output_type": "stream",
     "text": [
      "Neural Network Built!\n"
     ]
    }
   ],
   "source": [
    "def conv_net(x, keep_prob):\n",
    "    \"\"\"\n",
    "    Create a convolutional neural network model\n",
    "    : x: Placeholder tensor that holds image data.\n",
    "    : keep_prob: Placeholder tensor that hold dropout keep probability.\n",
    "    : return: Tensor that represents logits\n",
    "    \"\"\"\n",
    "    # TODO: Apply 1, 2, or 3 Convolution and Max Pool layers\n",
    "    #    Play around with different number of outputs, kernel size and stride\n",
    "    # Function Definition from Above:\n",
    "    #    conv2d_maxpool(x_tensor, conv_num_outputs, conv_ksize, conv_strides, pool_ksize, pool_strides)\n",
    "    \n",
    "    L1 = conv2d_maxpool(x, 16, [4, 4], [1, 1], [2, 2], [2, 2])\n",
    "    D1 = tf.nn.dropout(L1, keep_prob) \n",
    "    L2 = conv2d_maxpool(D1, 32, [4, 4], [1, 1], [2, 2], [2, 2])\n",
    "    D2 = tf.nn.dropout(L2, keep_prob) \n",
    "    L3 = conv2d_maxpool(D2, 64, [4, 4], [1, 1], [2, 2], [2, 2])\n",
    "    D3 = tf.nn.dropout(L3, keep_prob) \n",
    "      \n",
    "    # TODO: Apply a Flatten Layer\n",
    "    # Function Definition from Above:\n",
    "    #   flatten(x_tensor)\n",
    "    \n",
    "    F = flatten(D3)\n",
    "\n",
    "    # TODO: Apply 1, 2, or 3 Fully Connected Layers\n",
    "    #    Play around with different number of outputs\n",
    "    # Function Definition from Above:\n",
    "    #   fully_conn(x_tensor, num_outputs)\n",
    "    \n",
    "    FC1 = fully_conn(F, 40)\n",
    "    D4 = tf.nn.dropout(FC1, keep_prob) \n",
    "    FC2 = fully_conn(D4, 20)\n",
    "    D5 = tf.nn.dropout(FC2, keep_prob) \n",
    "    \n",
    "    # TODO: Apply an Output Layer\n",
    "    #    Set this to the number of classes\n",
    "    # Function Definition from Above:\n",
    "    #   output(x_tensor, num_outputs)\n",
    "    O = output(D5, 10)\n",
    "    \n",
    "    # TODO: return output\n",
    "    return O\n",
    "\n",
    "\n",
    "\"\"\"\n",
    "DON'T MODIFY ANYTHING IN THIS CELL THAT IS BELOW THIS LINE\n",
    "\"\"\"\n",
    "\n",
    "##############################\n",
    "## Build the Neural Network ##\n",
    "##############################\n",
    "\n",
    "# Remove previous weights, bias, inputs, etc..\n",
    "tf.reset_default_graph()\n",
    "\n",
    "# Inputs\n",
    "x = neural_net_image_input((32, 32, 3))\n",
    "y = neural_net_label_input(10)\n",
    "keep_prob = neural_net_keep_prob_input()\n",
    "\n",
    "# Model\n",
    "logits = conv_net(x, keep_prob)\n",
    "\n",
    "# Name logits Tensor, so that is can be loaded from disk after training\n",
    "logits = tf.identity(logits, name='logits')\n",
    "\n",
    "# Loss and Optimizer\n",
    "cost = tf.reduce_mean(tf.nn.softmax_cross_entropy_with_logits(logits=logits, labels=y))\n",
    "optimizer = tf.train.AdamOptimizer().minimize(cost)\n",
    "\n",
    "# Accuracy\n",
    "correct_pred = tf.equal(tf.argmax(logits, 1), tf.argmax(y, 1))\n",
    "accuracy = tf.reduce_mean(tf.cast(correct_pred, tf.float32), name='accuracy')\n",
    "\n",
    "tests.test_conv_net(conv_net)"
   ]
  },
  {
   "cell_type": "markdown",
   "metadata": {},
   "source": [
    "## Train the Neural Network\n",
    "### Single Optimization\n",
    "Implement the function `train_neural_network` to do a single optimization.  The optimization should use `optimizer` to optimize in `session` with a `feed_dict` of the following:\n",
    "* `x` for image input\n",
    "* `y` for labels\n",
    "* `keep_prob` for keep probability for dropout\n",
    "\n",
    "This function will be called for each batch, so `tf.global_variables_initializer()` has already been called.\n",
    "\n",
    "Note: Nothing needs to be returned. This function is only optimizing the neural network."
   ]
  },
  {
   "cell_type": "code",
   "execution_count": 13,
   "metadata": {},
   "outputs": [
    {
     "name": "stdout",
     "output_type": "stream",
     "text": [
      "Tests Passed\n"
     ]
    }
   ],
   "source": [
    "def train_neural_network(session, optimizer, keep_probability, feature_batch, label_batch):\n",
    "    \"\"\"\n",
    "    Optimize the session on a batch of images and labels\n",
    "    : session: Current TensorFlow session\n",
    "    : optimizer: TensorFlow optimizer function\n",
    "    : keep_probability: keep probability\n",
    "    : feature_batch: Batch of Numpy image data\n",
    "    : label_batch: Batch of Numpy label data\n",
    "    \"\"\"\n",
    "    # TODO: Implement Function\n",
    "    session.run(optimizer, feed_dict={x: feature_batch, y: label_batch, keep_prob: keep_probability})\n",
    "\n",
    "\n",
    "\"\"\"\n",
    "DON'T MODIFY ANYTHING IN THIS CELL THAT IS BELOW THIS LINE\n",
    "\"\"\"\n",
    "tests.test_train_nn(train_neural_network)"
   ]
  },
  {
   "cell_type": "markdown",
   "metadata": {},
   "source": [
    "### Show Stats\n",
    "Implement the function `print_stats` to print loss and validation accuracy.  Use the global variables `valid_features` and `valid_labels` to calculate validation accuracy.  Use a keep probability of `1.0` to calculate the loss and validation accuracy."
   ]
  },
  {
   "cell_type": "code",
   "execution_count": 14,
   "metadata": {
    "collapsed": true
   },
   "outputs": [],
   "source": [
    "def print_stats(session, feature_batch, label_batch, cost, accuracy):\n",
    "    \"\"\"\n",
    "    Print information about loss and validation accuracy\n",
    "    : session: Current TensorFlow session\n",
    "    : feature_batch: Batch of Numpy image data\n",
    "    : label_batch: Batch of Numpy label data\n",
    "    : cost: TensorFlow cost function\n",
    "    : accuracy: TensorFlow accuracy function\n",
    "    \"\"\"\n",
    "    # TODO: Implement Function\n",
    "    loss = session.run(cost, feed_dict={x: feature_batch, y: label_batch, keep_prob: 1.})\n",
    "    valid_acc = session.run(accuracy, feed_dict={x: valid_features, y: valid_labels, keep_prob: 1.})\n",
    "    print('Loss: {:>7.4f}  Validation Accuracy: {:.6f}'.format(loss, valid_acc))"
   ]
  },
  {
   "cell_type": "markdown",
   "metadata": {},
   "source": [
    "### Hyperparameters\n",
    "Tune the following parameters:\n",
    "* Set `epochs` to the number of iterations until the network stops learning or start overfitting\n",
    "* Set `batch_size` to the highest number that your machine has memory for.  Most people set them to common sizes of memory:\n",
    " * 64\n",
    " * 128\n",
    " * 256\n",
    " * ...\n",
    "* Set `keep_probability` to the probability of keeping a node using dropout"
   ]
  },
  {
   "cell_type": "code",
   "execution_count": 15,
   "metadata": {
    "collapsed": true
   },
   "outputs": [],
   "source": [
    "# TODO: Tune Parameters\n",
    "epochs = 30\n",
    "batch_size = 128\n",
    "keep_probability = 0.8"
   ]
  },
  {
   "cell_type": "markdown",
   "metadata": {},
   "source": [
    "### Train on a Single CIFAR-10 Batch\n",
    "Instead of training the neural network on all the CIFAR-10 batches of data, let's use a single batch. This should save time while you iterate on the model to get a better accuracy.  Once the final validation accuracy is 50% or greater, run the model on all the data in the next section."
   ]
  },
  {
   "cell_type": "code",
   "execution_count": 16,
   "metadata": {},
   "outputs": [
    {
     "name": "stdout",
     "output_type": "stream",
     "text": [
      "Checking the Training on a Single Batch...\n",
      "Epoch  1, CIFAR-10 Batch 1:  Loss:  2.2337  Validation Accuracy: 0.192400\n",
      "Epoch  2, CIFAR-10 Batch 1:  Loss:  2.1275  Validation Accuracy: 0.293400\n",
      "Epoch  3, CIFAR-10 Batch 1:  Loss:  2.0387  Validation Accuracy: 0.364800\n",
      "Epoch  4, CIFAR-10 Batch 1:  Loss:  1.9742  Validation Accuracy: 0.373600\n",
      "Epoch  5, CIFAR-10 Batch 1:  Loss:  1.9409  Validation Accuracy: 0.398600\n",
      "Epoch  6, CIFAR-10 Batch 1:  Loss:  1.8272  Validation Accuracy: 0.403200\n",
      "Epoch  7, CIFAR-10 Batch 1:  Loss:  1.7589  Validation Accuracy: 0.435800\n",
      "Epoch  8, CIFAR-10 Batch 1:  Loss:  1.6484  Validation Accuracy: 0.446600\n",
      "Epoch  9, CIFAR-10 Batch 1:  Loss:  1.6643  Validation Accuracy: 0.448600\n",
      "Epoch 10, CIFAR-10 Batch 1:  Loss:  1.5674  Validation Accuracy: 0.465400\n",
      "Epoch 11, CIFAR-10 Batch 1:  Loss:  1.5255  Validation Accuracy: 0.462400\n",
      "Epoch 12, CIFAR-10 Batch 1:  Loss:  1.3900  Validation Accuracy: 0.487000\n",
      "Epoch 13, CIFAR-10 Batch 1:  Loss:  1.4168  Validation Accuracy: 0.483200\n",
      "Epoch 14, CIFAR-10 Batch 1:  Loss:  1.2770  Validation Accuracy: 0.493000\n",
      "Epoch 15, CIFAR-10 Batch 1:  Loss:  1.2593  Validation Accuracy: 0.503200\n",
      "Epoch 16, CIFAR-10 Batch 1:  Loss:  1.2646  Validation Accuracy: 0.507000\n",
      "Epoch 17, CIFAR-10 Batch 1:  Loss:  1.1395  Validation Accuracy: 0.520800\n",
      "Epoch 18, CIFAR-10 Batch 1:  Loss:  1.1315  Validation Accuracy: 0.522200\n",
      "Epoch 19, CIFAR-10 Batch 1:  Loss:  1.1316  Validation Accuracy: 0.534800\n",
      "Epoch 20, CIFAR-10 Batch 1:  Loss:  1.1370  Validation Accuracy: 0.546000\n",
      "Epoch 21, CIFAR-10 Batch 1:  Loss:  1.0720  Validation Accuracy: 0.530400\n",
      "Epoch 22, CIFAR-10 Batch 1:  Loss:  1.0400  Validation Accuracy: 0.543800\n",
      "Epoch 23, CIFAR-10 Batch 1:  Loss:  0.9820  Validation Accuracy: 0.547800\n",
      "Epoch 24, CIFAR-10 Batch 1:  Loss:  0.9923  Validation Accuracy: 0.554600\n",
      "Epoch 25, CIFAR-10 Batch 1:  Loss:  0.9324  Validation Accuracy: 0.552200\n",
      "Epoch 26, CIFAR-10 Batch 1:  Loss:  0.8861  Validation Accuracy: 0.564800\n",
      "Epoch 27, CIFAR-10 Batch 1:  Loss:  0.8538  Validation Accuracy: 0.562800\n",
      "Epoch 28, CIFAR-10 Batch 1:  Loss:  0.9323  Validation Accuracy: 0.549400\n",
      "Epoch 29, CIFAR-10 Batch 1:  Loss:  0.8415  Validation Accuracy: 0.564800\n",
      "Epoch 30, CIFAR-10 Batch 1:  Loss:  0.8034  Validation Accuracy: 0.577800\n"
     ]
    }
   ],
   "source": [
    "from __future__ import print_function\n",
    "\"\"\"\n",
    "DON'T MODIFY ANYTHING IN THIS CELL\n",
    "\"\"\"\n",
    "print('Checking the Training on a Single Batch...')\n",
    "with tf.Session() as sess:\n",
    "    # Initializing the variables\n",
    "    sess.run(tf.global_variables_initializer())\n",
    "    \n",
    "    # Training cycle\n",
    "    for epoch in range(epochs):\n",
    "        batch_i = 1\n",
    "        for batch_features, batch_labels in helper.load_preprocess_training_batch(batch_i, batch_size):\n",
    "            train_neural_network(sess, optimizer, keep_probability, batch_features, batch_labels)\n",
    "        print('Epoch {:>2}, CIFAR-10 Batch {}:  '.format(epoch + 1, batch_i), end='')\n",
    "        print_stats(sess, batch_features, batch_labels, cost, accuracy)"
   ]
  },
  {
   "cell_type": "markdown",
   "metadata": {},
   "source": [
    "### Fully Train the Model\n",
    "Now that you got a good accuracy with a single CIFAR-10 batch, try it with all five batches."
   ]
  },
  {
   "cell_type": "code",
   "execution_count": 17,
   "metadata": {},
   "outputs": [
    {
     "name": "stdout",
     "output_type": "stream",
     "text": [
      "Training...\n",
      "Epoch  1, CIFAR-10 Batch 1:  Loss:  2.1439  Validation Accuracy: 0.223000\n",
      "Epoch  1, CIFAR-10 Batch 2:  Loss:  1.9241  Validation Accuracy: 0.333000\n",
      "Epoch  1, CIFAR-10 Batch 3:  Loss:  1.6405  Validation Accuracy: 0.356600\n",
      "Epoch  1, CIFAR-10 Batch 4:  Loss:  1.7084  Validation Accuracy: 0.408400\n",
      "Epoch  1, CIFAR-10 Batch 5:  Loss:  1.6732  Validation Accuracy: 0.418200\n",
      "Epoch  2, CIFAR-10 Batch 1:  Loss:  1.7359  Validation Accuracy: 0.420400\n",
      "Epoch  2, CIFAR-10 Batch 2:  Loss:  1.6991  Validation Accuracy: 0.427600\n",
      "Epoch  2, CIFAR-10 Batch 3:  Loss:  1.3189  Validation Accuracy: 0.461800\n",
      "Epoch  2, CIFAR-10 Batch 4:  Loss:  1.5627  Validation Accuracy: 0.442800\n",
      "Epoch  2, CIFAR-10 Batch 5:  Loss:  1.4730  Validation Accuracy: 0.484400\n",
      "Epoch  3, CIFAR-10 Batch 1:  Loss:  1.4815  Validation Accuracy: 0.497200\n",
      "Epoch  3, CIFAR-10 Batch 2:  Loss:  1.3635  Validation Accuracy: 0.511200\n",
      "Epoch  3, CIFAR-10 Batch 3:  Loss:  1.2098  Validation Accuracy: 0.500600\n",
      "Epoch  3, CIFAR-10 Batch 4:  Loss:  1.4110  Validation Accuracy: 0.515000\n",
      "Epoch  3, CIFAR-10 Batch 5:  Loss:  1.3875  Validation Accuracy: 0.529600\n",
      "Epoch  4, CIFAR-10 Batch 1:  Loss:  1.3564  Validation Accuracy: 0.523200\n",
      "Epoch  4, CIFAR-10 Batch 2:  Loss:  1.2777  Validation Accuracy: 0.541200\n",
      "Epoch  4, CIFAR-10 Batch 3:  Loss:  1.0848  Validation Accuracy: 0.547200\n",
      "Epoch  4, CIFAR-10 Batch 4:  Loss:  1.2893  Validation Accuracy: 0.526200\n",
      "Epoch  4, CIFAR-10 Batch 5:  Loss:  1.2198  Validation Accuracy: 0.558000\n",
      "Epoch  5, CIFAR-10 Batch 1:  Loss:  1.1944  Validation Accuracy: 0.567200\n",
      "Epoch  5, CIFAR-10 Batch 2:  Loss:  1.2141  Validation Accuracy: 0.572400\n",
      "Epoch  5, CIFAR-10 Batch 3:  Loss:  1.0146  Validation Accuracy: 0.564200\n",
      "Epoch  5, CIFAR-10 Batch 4:  Loss:  1.2072  Validation Accuracy: 0.573200\n",
      "Epoch  5, CIFAR-10 Batch 5:  Loss:  1.1901  Validation Accuracy: 0.584400\n",
      "Epoch  6, CIFAR-10 Batch 1:  Loss:  1.1253  Validation Accuracy: 0.591800\n",
      "Epoch  6, CIFAR-10 Batch 2:  Loss:  1.1825  Validation Accuracy: 0.597600\n",
      "Epoch  6, CIFAR-10 Batch 3:  Loss:  0.9179  Validation Accuracy: 0.599600\n",
      "Epoch  6, CIFAR-10 Batch 4:  Loss:  1.0830  Validation Accuracy: 0.601600\n",
      "Epoch  6, CIFAR-10 Batch 5:  Loss:  1.0488  Validation Accuracy: 0.600400\n",
      "Epoch  7, CIFAR-10 Batch 1:  Loss:  1.0126  Validation Accuracy: 0.618800\n",
      "Epoch  7, CIFAR-10 Batch 2:  Loss:  1.0721  Validation Accuracy: 0.628600\n",
      "Epoch  7, CIFAR-10 Batch 3:  Loss:  0.8628  Validation Accuracy: 0.615600\n",
      "Epoch  7, CIFAR-10 Batch 4:  Loss:  1.0113  Validation Accuracy: 0.615800\n",
      "Epoch  7, CIFAR-10 Batch 5:  Loss:  0.9951  Validation Accuracy: 0.614400\n",
      "Epoch  8, CIFAR-10 Batch 1:  Loss:  0.9632  Validation Accuracy: 0.634800\n",
      "Epoch  8, CIFAR-10 Batch 2:  Loss:  1.0043  Validation Accuracy: 0.622200\n",
      "Epoch  8, CIFAR-10 Batch 3:  Loss:  0.8311  Validation Accuracy: 0.632600\n",
      "Epoch  8, CIFAR-10 Batch 4:  Loss:  0.9497  Validation Accuracy: 0.632200\n",
      "Epoch  8, CIFAR-10 Batch 5:  Loss:  0.9028  Validation Accuracy: 0.629800\n",
      "Epoch  9, CIFAR-10 Batch 1:  Loss:  0.9105  Validation Accuracy: 0.639400\n",
      "Epoch  9, CIFAR-10 Batch 2:  Loss:  0.9746  Validation Accuracy: 0.631600\n",
      "Epoch  9, CIFAR-10 Batch 3:  Loss:  0.8275  Validation Accuracy: 0.641600\n",
      "Epoch  9, CIFAR-10 Batch 4:  Loss:  0.8809  Validation Accuracy: 0.637800\n",
      "Epoch  9, CIFAR-10 Batch 5:  Loss:  0.8493  Validation Accuracy: 0.642800\n",
      "Epoch 10, CIFAR-10 Batch 1:  Loss:  0.8826  Validation Accuracy: 0.652800\n",
      "Epoch 10, CIFAR-10 Batch 2:  Loss:  0.9288  Validation Accuracy: 0.648000\n",
      "Epoch 10, CIFAR-10 Batch 3:  Loss:  0.7564  Validation Accuracy: 0.649200\n",
      "Epoch 10, CIFAR-10 Batch 4:  Loss:  0.8569  Validation Accuracy: 0.646600\n",
      "Epoch 10, CIFAR-10 Batch 5:  Loss:  0.7692  Validation Accuracy: 0.646600\n",
      "Epoch 11, CIFAR-10 Batch 1:  Loss:  0.7835  Validation Accuracy: 0.667000\n",
      "Epoch 11, CIFAR-10 Batch 2:  Loss:  0.8897  Validation Accuracy: 0.648000\n",
      "Epoch 11, CIFAR-10 Batch 3:  Loss:  0.7560  Validation Accuracy: 0.654000\n",
      "Epoch 11, CIFAR-10 Batch 4:  Loss:  0.8199  Validation Accuracy: 0.659600\n",
      "Epoch 11, CIFAR-10 Batch 5:  Loss:  0.7836  Validation Accuracy: 0.636200\n",
      "Epoch 12, CIFAR-10 Batch 1:  Loss:  0.7816  Validation Accuracy: 0.664800\n",
      "Epoch 12, CIFAR-10 Batch 2:  Loss:  0.9472  Validation Accuracy: 0.663400\n",
      "Epoch 12, CIFAR-10 Batch 3:  Loss:  0.7647  Validation Accuracy: 0.660200\n",
      "Epoch 12, CIFAR-10 Batch 4:  Loss:  0.7997  Validation Accuracy: 0.671800\n",
      "Epoch 12, CIFAR-10 Batch 5:  Loss:  0.7282  Validation Accuracy: 0.660000\n",
      "Epoch 13, CIFAR-10 Batch 1:  Loss:  0.8118  Validation Accuracy: 0.656600\n",
      "Epoch 13, CIFAR-10 Batch 2:  Loss:  0.7882  Validation Accuracy: 0.685000\n",
      "Epoch 13, CIFAR-10 Batch 3:  Loss:  0.6848  Validation Accuracy: 0.681800\n",
      "Epoch 13, CIFAR-10 Batch 4:  Loss:  0.8260  Validation Accuracy: 0.684400\n",
      "Epoch 13, CIFAR-10 Batch 5:  Loss:  0.6787  Validation Accuracy: 0.662200\n",
      "Epoch 14, CIFAR-10 Batch 1:  Loss:  0.6837  Validation Accuracy: 0.691000\n",
      "Epoch 14, CIFAR-10 Batch 2:  Loss:  0.6987  Validation Accuracy: 0.683200\n",
      "Epoch 14, CIFAR-10 Batch 3:  Loss:  0.6119  Validation Accuracy: 0.690400\n",
      "Epoch 14, CIFAR-10 Batch 4:  Loss:  0.7508  Validation Accuracy: 0.689000\n",
      "Epoch 14, CIFAR-10 Batch 5:  Loss:  0.6435  Validation Accuracy: 0.682600\n",
      "Epoch 15, CIFAR-10 Batch 1:  Loss:  0.6426  Validation Accuracy: 0.688600\n",
      "Epoch 15, CIFAR-10 Batch 2:  Loss:  0.7384  Validation Accuracy: 0.686600\n",
      "Epoch 15, CIFAR-10 Batch 3:  Loss:  0.5419  Validation Accuracy: 0.700600\n",
      "Epoch 15, CIFAR-10 Batch 4:  Loss:  0.7551  Validation Accuracy: 0.686800\n",
      "Epoch 15, CIFAR-10 Batch 5:  Loss:  0.6250  Validation Accuracy: 0.693000\n",
      "Epoch 16, CIFAR-10 Batch 1:  Loss:  0.6947  Validation Accuracy: 0.688200\n",
      "Epoch 16, CIFAR-10 Batch 2:  Loss:  0.6854  Validation Accuracy: 0.694000\n",
      "Epoch 16, CIFAR-10 Batch 3:  Loss:  0.5825  Validation Accuracy: 0.687000\n",
      "Epoch 16, CIFAR-10 Batch 4:  Loss:  0.7155  Validation Accuracy: 0.696200\n",
      "Epoch 16, CIFAR-10 Batch 5:  Loss:  0.6656  Validation Accuracy: 0.693200\n",
      "Epoch 17, CIFAR-10 Batch 1:  Loss:  0.6519  Validation Accuracy: 0.688200\n",
      "Epoch 17, CIFAR-10 Batch 2:  Loss:  0.7148  Validation Accuracy: 0.693000\n",
      "Epoch 17, CIFAR-10 Batch 3:  Loss:  0.5721  Validation Accuracy: 0.690000\n",
      "Epoch 17, CIFAR-10 Batch 4:  Loss:  0.7313  Validation Accuracy: 0.685800\n",
      "Epoch 17, CIFAR-10 Batch 5:  Loss:  0.6422  Validation Accuracy: 0.688400\n",
      "Epoch 18, CIFAR-10 Batch 1:  Loss:  0.6414  Validation Accuracy: 0.700600\n",
      "Epoch 18, CIFAR-10 Batch 2:  Loss:  0.6880  Validation Accuracy: 0.700600\n",
      "Epoch 18, CIFAR-10 Batch 3:  Loss:  0.5131  Validation Accuracy: 0.705000\n",
      "Epoch 18, CIFAR-10 Batch 4:  Loss:  0.6499  Validation Accuracy: 0.699400\n",
      "Epoch 18, CIFAR-10 Batch 5:  Loss:  0.5490  Validation Accuracy: 0.693400\n",
      "Epoch 19, CIFAR-10 Batch 1:  Loss:  0.6107  Validation Accuracy: 0.701400\n",
      "Epoch 19, CIFAR-10 Batch 2:  Loss:  0.6185  Validation Accuracy: 0.704200\n",
      "Epoch 19, CIFAR-10 Batch 3:  Loss:  0.5805  Validation Accuracy: 0.696000\n",
      "Epoch 19, CIFAR-10 Batch 4:  Loss:  0.6568  Validation Accuracy: 0.706800\n",
      "Epoch 19, CIFAR-10 Batch 5:  Loss:  0.5878  Validation Accuracy: 0.710200\n",
      "Epoch 20, CIFAR-10 Batch 1:  Loss:  0.6172  Validation Accuracy: 0.707000\n",
      "Epoch 20, CIFAR-10 Batch 2:  Loss:  0.6069  Validation Accuracy: 0.715000\n",
      "Epoch 20, CIFAR-10 Batch 3:  Loss:  0.5281  Validation Accuracy: 0.706600\n",
      "Epoch 20, CIFAR-10 Batch 4:  Loss:  0.6766  Validation Accuracy: 0.699600\n",
      "Epoch 20, CIFAR-10 Batch 5:  Loss:  0.5577  Validation Accuracy: 0.716000\n",
      "Epoch 21, CIFAR-10 Batch 1:  Loss:  0.5823  Validation Accuracy: 0.706400\n",
      "Epoch 21, CIFAR-10 Batch 2:  Loss:  0.5595  Validation Accuracy: 0.713800\n",
      "Epoch 21, CIFAR-10 Batch 3:  Loss:  0.4569  Validation Accuracy: 0.712000\n",
      "Epoch 21, CIFAR-10 Batch 4:  Loss:  0.6554  Validation Accuracy: 0.707600\n",
      "Epoch 21, CIFAR-10 Batch 5:  Loss:  0.5424  Validation Accuracy: 0.712200\n",
      "Epoch 22, CIFAR-10 Batch 1:  Loss:  0.5967  Validation Accuracy: 0.716200\n",
      "Epoch 22, CIFAR-10 Batch 2:  Loss:  0.5494  Validation Accuracy: 0.713400\n",
      "Epoch 22, CIFAR-10 Batch 3:  Loss:  0.4193  Validation Accuracy: 0.719000\n",
      "Epoch 22, CIFAR-10 Batch 4:  Loss:  0.6141  Validation Accuracy: 0.713800\n",
      "Epoch 22, CIFAR-10 Batch 5:  Loss:  0.5012  Validation Accuracy: 0.720000\n",
      "Epoch 23, CIFAR-10 Batch 1:  Loss:  0.5590  Validation Accuracy: 0.719800\n"
     ]
    },
    {
     "name": "stdout",
     "output_type": "stream",
     "text": [
      "Epoch 23, CIFAR-10 Batch 2:  Loss:  0.5366  Validation Accuracy: 0.710600\n",
      "Epoch 23, CIFAR-10 Batch 3:  Loss:  0.4249  Validation Accuracy: 0.715800\n",
      "Epoch 23, CIFAR-10 Batch 4:  Loss:  0.6136  Validation Accuracy: 0.717200\n",
      "Epoch 23, CIFAR-10 Batch 5:  Loss:  0.5074  Validation Accuracy: 0.715200\n",
      "Epoch 24, CIFAR-10 Batch 1:  Loss:  0.6193  Validation Accuracy: 0.726200\n",
      "Epoch 24, CIFAR-10 Batch 2:  Loss:  0.5886  Validation Accuracy: 0.708400\n",
      "Epoch 24, CIFAR-10 Batch 3:  Loss:  0.3981  Validation Accuracy: 0.719600\n",
      "Epoch 24, CIFAR-10 Batch 4:  Loss:  0.5753  Validation Accuracy: 0.727000\n",
      "Epoch 24, CIFAR-10 Batch 5:  Loss:  0.4677  Validation Accuracy: 0.720200\n",
      "Epoch 25, CIFAR-10 Batch 1:  Loss:  0.5729  Validation Accuracy: 0.712400\n",
      "Epoch 25, CIFAR-10 Batch 2:  Loss:  0.5719  Validation Accuracy: 0.715400\n",
      "Epoch 25, CIFAR-10 Batch 3:  Loss:  0.4160  Validation Accuracy: 0.716800\n",
      "Epoch 25, CIFAR-10 Batch 4:  Loss:  0.5824  Validation Accuracy: 0.719000\n",
      "Epoch 25, CIFAR-10 Batch 5:  Loss:  0.4948  Validation Accuracy: 0.712400\n",
      "Epoch 26, CIFAR-10 Batch 1:  Loss:  0.5396  Validation Accuracy: 0.719600\n",
      "Epoch 26, CIFAR-10 Batch 2:  Loss:  0.5429  Validation Accuracy: 0.718400\n",
      "Epoch 26, CIFAR-10 Batch 3:  Loss:  0.3950  Validation Accuracy: 0.719000\n",
      "Epoch 26, CIFAR-10 Batch 4:  Loss:  0.5996  Validation Accuracy: 0.719400\n",
      "Epoch 26, CIFAR-10 Batch 5:  Loss:  0.4869  Validation Accuracy: 0.724000\n",
      "Epoch 27, CIFAR-10 Batch 1:  Loss:  0.5165  Validation Accuracy: 0.723800\n",
      "Epoch 27, CIFAR-10 Batch 2:  Loss:  0.5410  Validation Accuracy: 0.723200\n",
      "Epoch 27, CIFAR-10 Batch 3:  Loss:  0.3892  Validation Accuracy: 0.719800\n",
      "Epoch 27, CIFAR-10 Batch 4:  Loss:  0.5664  Validation Accuracy: 0.723200\n",
      "Epoch 27, CIFAR-10 Batch 5:  Loss:  0.5095  Validation Accuracy: 0.722400\n",
      "Epoch 28, CIFAR-10 Batch 1:  Loss:  0.5310  Validation Accuracy: 0.729400\n",
      "Epoch 28, CIFAR-10 Batch 2:  Loss:  0.5826  Validation Accuracy: 0.718000\n",
      "Epoch 28, CIFAR-10 Batch 3:  Loss:  0.3506  Validation Accuracy: 0.727600\n",
      "Epoch 28, CIFAR-10 Batch 4:  Loss:  0.5512  Validation Accuracy: 0.726200\n",
      "Epoch 28, CIFAR-10 Batch 5:  Loss:  0.4625  Validation Accuracy: 0.727400\n",
      "Epoch 29, CIFAR-10 Batch 1:  Loss:  0.4824  Validation Accuracy: 0.728000\n",
      "Epoch 29, CIFAR-10 Batch 2:  Loss:  0.4887  Validation Accuracy: 0.728200\n",
      "Epoch 29, CIFAR-10 Batch 3:  Loss:  0.3356  Validation Accuracy: 0.729800\n",
      "Epoch 29, CIFAR-10 Batch 4:  Loss:  0.5007  Validation Accuracy: 0.737200\n",
      "Epoch 29, CIFAR-10 Batch 5:  Loss:  0.4436  Validation Accuracy: 0.730200\n",
      "Epoch 30, CIFAR-10 Batch 1:  Loss:  0.5069  Validation Accuracy: 0.732200\n",
      "Epoch 30, CIFAR-10 Batch 2:  Loss:  0.5490  Validation Accuracy: 0.737200\n",
      "Epoch 30, CIFAR-10 Batch 3:  Loss:  0.3777  Validation Accuracy: 0.729000\n",
      "Epoch 30, CIFAR-10 Batch 4:  Loss:  0.5264  Validation Accuracy: 0.732400\n",
      "Epoch 30, CIFAR-10 Batch 5:  Loss:  0.4094  Validation Accuracy: 0.725200\n"
     ]
    }
   ],
   "source": [
    "\"\"\"\n",
    "DON'T MODIFY ANYTHING IN THIS CELL\n",
    "\"\"\"\n",
    "save_model_path = './image_classification'\n",
    "\n",
    "print('Training...')\n",
    "with tf.Session() as sess:\n",
    "    # Initializing the variables\n",
    "    sess.run(tf.global_variables_initializer())\n",
    "    \n",
    "    # Training cycle\n",
    "    for epoch in range(epochs):\n",
    "        # Loop over all batches\n",
    "        n_batches = 5\n",
    "        for batch_i in range(1, n_batches + 1):\n",
    "            for batch_features, batch_labels in helper.load_preprocess_training_batch(batch_i, batch_size):\n",
    "                train_neural_network(sess, optimizer, keep_probability, batch_features, batch_labels)\n",
    "            print('Epoch {:>2}, CIFAR-10 Batch {}:  '.format(epoch + 1, batch_i), end='')\n",
    "            print_stats(sess, batch_features, batch_labels, cost, accuracy)\n",
    "            \n",
    "    # Save Model\n",
    "    saver = tf.train.Saver()\n",
    "    save_path = saver.save(sess, save_model_path)"
   ]
  },
  {
   "cell_type": "markdown",
   "metadata": {},
   "source": [
    "# Checkpoint\n",
    "The model has been saved to disk.\n",
    "## Test Model\n",
    "Test your model against the test dataset.  This will be your final accuracy. You should have an accuracy greater than 50%. If you don't, keep tweaking the model architecture and parameters."
   ]
  },
  {
   "cell_type": "code",
   "execution_count": 18,
   "metadata": {},
   "outputs": [
    {
     "name": "stdout",
     "output_type": "stream",
     "text": [
      "INFO:tensorflow:Restoring parameters from ./image_classification\n",
      "Testing Accuracy: 0.715585443038\n",
      "\n"
     ]
    },
    {
     "data": {
      "image/png": "[encoded data removed]",
      "text/plain": [
       "<matplotlib.figure.Figure at 0x1225f0e90>"
      ]
     },
     "metadata": {
      "image/png": {
       "height": 319,
       "width": 355
      }
     },
     "output_type": "display_data"
    }
   ],
   "source": [
    "\"\"\"\n",
    "DON'T MODIFY ANYTHING IN THIS CELL\n",
    "\"\"\"\n",
    "%matplotlib inline\n",
    "%config InlineBackend.figure_format = 'retina'\n",
    "\n",
    "import tensorflow as tf\n",
    "import pickle\n",
    "import helper\n",
    "import random\n",
    "\n",
    "# Set batch size if not already set\n",
    "try:\n",
    "    if batch_size:\n",
    "        pass\n",
    "except NameError:\n",
    "    batch_size = 64\n",
    "\n",
    "save_model_path = './image_classification'\n",
    "n_samples = 4\n",
    "top_n_predictions = 3\n",
    "\n",
    "def test_model():\n",
    "    \"\"\"\n",
    "    Test the saved model against the test dataset\n",
    "    \"\"\"\n",
    "\n",
    "    test_features, test_labels = pickle.load(open('preprocess_test.p', mode='rb'))\n",
    "    loaded_graph = tf.Graph()\n",
    "\n",
    "    with tf.Session(graph=loaded_graph) as sess:\n",
    "        # Load model\n",
    "        loader = tf.train.import_meta_graph(save_model_path + '.meta')\n",
    "        loader.restore(sess, save_model_path)\n",
    "\n",
    "        # Get Tensors from loaded model\n",
    "        loaded_x = loaded_graph.get_tensor_by_name('x:0')\n",
    "        loaded_y = loaded_graph.get_tensor_by_name('y:0')\n",
    "        loaded_keep_prob = loaded_graph.get_tensor_by_name('keep_prob:0')\n",
    "        loaded_logits = loaded_graph.get_tensor_by_name('logits:0')\n",
    "        loaded_acc = loaded_graph.get_tensor_by_name('accuracy:0')\n",
    "        \n",
    "        # Get accuracy in batches for memory limitations\n",
    "        test_batch_acc_total = 0\n",
    "        test_batch_count = 0\n",
    "        \n",
    "        for test_feature_batch, test_label_batch in helper.batch_features_labels(test_features, test_labels, batch_size):\n",
    "            test_batch_acc_total += sess.run(\n",
    "                loaded_acc,\n",
    "                feed_dict={loaded_x: test_feature_batch, loaded_y: test_label_batch, loaded_keep_prob: 1.0})\n",
    "            test_batch_count += 1\n",
    "\n",
    "        print('Testing Accuracy: {}\\n'.format(test_batch_acc_total/test_batch_count))\n",
    "\n",
    "        # Print Random Samples\n",
    "        random_test_features, random_test_labels = tuple(zip(*random.sample(list(zip(test_features, test_labels)), n_samples)))\n",
    "        random_test_predictions = sess.run(\n",
    "            tf.nn.top_k(tf.nn.softmax(loaded_logits), top_n_predictions),\n",
    "            feed_dict={loaded_x: random_test_features, loaded_y: random_test_labels, loaded_keep_prob: 1.0})\n",
    "        helper.display_image_predictions(random_test_features, random_test_labels, random_test_predictions)\n",
    "\n",
    "\n",
    "test_model()"
   ]
  },
  {
   "cell_type": "markdown",
   "metadata": {},
   "source": [
    "## Why 50-80% Accuracy?\n",
    "You might be wondering why you can't get an accuracy any higher. First things first, 50% isn't bad for a simple CNN.  Pure guessing would get you 10% accuracy. However, you might notice people are getting scores [well above 80%](http://rodrigob.github.io/are_we_there_yet/build/classification_datasets_results.html#43494641522d3130).  That's because we haven't taught you all there is to know about neural networks. We still need to cover a few more techniques.\n",
    "## Submitting This Project\n",
    "When submitting this project, make sure to run all the cells before saving the notebook.  Save the notebook file as \"dlnd_image_classification.ipynb\" and save it as a HTML file under \"File\" -> \"Download as\".  Include the \"helper.py\" and \"problem_unittests.py\" files in your submission."
   ]
  }
 ],
 "metadata": {
  "kernelspec": {
   "display_name": "Python 2",
   "language": "python",
   "name": "python2"
  },
  "language_info": {
   "codemirror_mode": {
    "name": "ipython",
    "version": 2
   },
   "file_extension": ".py",
   "mimetype": "text/x-python",
   "name": "python",
   "nbconvert_exporter": "python",
   "pygments_lexer": "ipython2",
   "version": "2.7.13"
  }
 },
 "nbformat": 4,
 "nbformat_minor": 1
}
